{
 "cells": [
  {
   "attachments": {},
   "cell_type": "markdown",
   "metadata": {},
   "source": [
    "### SEVER DEFINITIONS\n"
   ]
  },
  {
   "cell_type": "code",
   "execution_count": 1,
   "metadata": {},
   "outputs": [],
   "source": [
    "# Necessary Imports\n",
    "from flask import Flask, jsonify\n",
    "from werkzeug.routing import IntegerConverter\n",
    "from _csv import Dialect as _Dialect\n",
    "import csv\n",
    "import copy\n",
    "import os\n",
    "from rtls_slave import aoa_main, pixel_calculate\n",
    "\n",
    "# PARAMETER FOR COMPRESSING THE PIXEL POINTS\n",
    "comp_parameter = .5\n",
    "\n",
    "# Handle Negative Values\n",
    "class SignedIntConverter(IntegerConverter):\n",
    "    regex = r'-?\\d+'\n",
    "app = Flask(__name__)\n",
    "app.url_map.converters['signed_int'] = SignedIntConverter\n",
    "#Store input values: AoA and Horizontal Angle\n",
    "\n",
    "aoabefore = {}\n",
    "aoa= {}\n",
    "lev = []\n",
    "\n",
    "@app.route('/')\n",
    "def home():\n",
    "    return \"This is the HomePage\"\n",
    "\n",
    "#Routing Settings\n",
    "@app.route('/send/<signed_int:horiz>', methods=['GET'])\n",
    "def get_angle(horiz):\n",
    "    global aoa\n",
    "    global aoabefore\n",
    "    print(\"Plane Angle: \" + str(horiz))\n",
    "    aoa_result = aoa_main(sleep_time=5)\n",
    "    print(aoa_result)\n",
    "    input_letter = input(\"If you want to add this data to list type 'y', otherwise press Enter\")\n",
    "    if input_letter!='y':\n",
    "        return jsonify({'state':'Try Again'})\n",
    "    lev.append(horiz)\n",
    "    aoabefore = copy.deepcopy(aoa)\n",
    "    aoa = aoa_result\n",
    "        \n",
    "    return jsonify({'state': 'success'})\n",
    "\n",
    "@app.route('/calculate/', methods=['GET'])\n",
    "def calculate():\n",
    "    print(\"Before Turning：\"+str(aoabefore)+'\\n'+\"After Turning： \" + str(aoa) +'\\n'+\"Rotation Angle： \"+ str(lev))\n",
    "    #aoa_image()\n",
    "    u = []\n",
    "    v = []\n",
    "\n",
    "    set_aoa = set(aoa)\n",
    "    set_aoabefore = set(aoabefore)\n",
    "\n",
    "    for slave in set_aoa.intersection(set_aoabefore):\n",
    "        minnumber = min(len(aoabefore[slave]), len(aoa[slave]))\n",
    "        f = open(f\"./aoa_results/{slave.replace(':','_')}_before.csv\",'a',newline=\"\")\n",
    "        f.truncate()\n",
    "        writer = csv.writer(f)\n",
    "        \n",
    "        p_count = 0\n",
    "        for i in range(2,minnumber-2):\n",
    "            for j in range(2,minnumber-2):\n",
    "                (temp1, temp2) = pixel_calculate(lev[-2] - lev[-1], aoabefore[slave][i], aoa[slave][j],beta = comp_parameter)\n",
    "\n",
    "                if (temp1 != 1):\n",
    "                    u.append(temp1)\n",
    "                    v.append(temp2)\n",
    "                    tupx = (temp1,temp2)\n",
    "                    writer.writerow(tupx)\n",
    "                \n",
    "        \n",
    "        f.close()\n",
    "\n",
    "    \n",
    "    return jsonify({'state': 'success'})"
   ]
  },
  {
   "attachments": {},
   "cell_type": "markdown",
   "metadata": {},
   "source": [
    "### RUNNING THE SEVER"
   ]
  },
  {
   "cell_type": "code",
   "execution_count": 2,
   "metadata": {},
   "outputs": [
    {
     "name": "stdout",
     "output_type": "stream",
     "text": [
      " * Serving Flask app '__main__' (lazy loading)\n",
      " * Environment: production\n",
      "\u001b[31m   WARNING: This is a development server. Do not use it in a production deployment.\u001b[0m\n",
      "\u001b[2m   Use a production WSGI server instead.\u001b[0m\n",
      " * Debug mode: off\n"
     ]
    },
    {
     "name": "stderr",
     "output_type": "stream",
     "text": [
      "WARNING: This is a development server. Do not use it in a production deployment. Use a production WSGI server instead.\n",
      " * Running on all addresses (0.0.0.0)\n",
      " * Running on http://127.0.0.1:5000\n",
      " * Running on http://10.19.217.212:5000\n",
      "Press CTRL+C to quit\n"
     ]
    },
    {
     "name": "stdout",
     "output_type": "stream",
     "text": [
      "Plane Angle: 86\n",
      "Master : <RTLSNode(CC26x2 Master, started daemon 7236)> \n",
      "Passives : [] \n",
      "All : [<RTLSNode(CC26x2 Master, started daemon 7236)>]\n",
      "Devices Reset\n",
      "Start scan for 5 sec\n",
      "Scan Results: [{'addr': '80:6F:B0:EE:9C:67', 'addrType': 0, 'rssi': -69, 'advSID': 1, 'periodicAdvInt': 240}, {'addr': '80:6F:B0:EE:AA:13', 'addrType': 0, 'rssi': -66, 'advSID': 255, 'periodicAdvInt': 0}, {'addr': '80:6F:B0:EE:9C:67', 'addrType': 0, 'rssi': -59, 'advSID': 255, 'periodicAdvInt': 0}, {'addr': '80:6F:B0:EE:AA:13', 'addrType': 0, 'rssi': -62, 'advSID': 1, 'periodicAdvInt': 240}]\n",
      "Try to connect to : 80:6F:B0:EE:9C:67\n",
      "Connected to : 80:6F:B0:EE:9C:67 with connection handle 0\n",
      "Try to connect to : 80:6F:B0:EE:AA:13\n",
      "Connected to : 80:6F:B0:EE:AA:13 with connection handle 1\n",
      "AOA Params Set for Connection Handle: 0\n",
      "AOA Params Set for Connection Handle: 1\n",
      "AOA Callback Set for All Connection Handlers\n",
      "AOA Started with Connection Handle: 0\n",
      "AOA Started with Connection Handle: 1\n",
      "Going to sleep for 5 sec\n",
      "Try to stop AOA result parsing threadSTOP Command Received\n",
      "\n",
      "AOA Stopped\n",
      "Master Disconnected\n",
      "Done\n",
      "{'80:6F:B0:EE:9C:67': [21, 19, 17, 17, 13, 15, 16, 16, 16, 16, 18], '80:6F:B0:EE:AA:13': [-6, -9, -11, -13, -12, -9, -7, -13, -10, -9]}\n"
     ]
    },
    {
     "name": "stderr",
     "output_type": "stream",
     "text": [
      "10.19.190.195 - - [24/Mar/2023 14:10:11] \"GET /send/86 HTTP/1.1\" 200 -\n"
     ]
    },
    {
     "name": "stdout",
     "output_type": "stream",
     "text": [
      "Plane Angle: 94\n",
      "Master : <RTLSNode(CC26x2 Master, started daemon 9424)> \n",
      "Passives : [] \n",
      "All : [<RTLSNode(CC26x2 Master, started daemon 9424)>]\n",
      "Devices Reset\n",
      "Start scan for 5 sec\n",
      "Scan Results: [{'addr': '80:6F:B0:EE:9C:67', 'addrType': 0, 'rssi': -67, 'advSID': 255, 'periodicAdvInt': 0}, {'addr': '80:6F:B0:EE:AA:13', 'addrType': 0, 'rssi': -65, 'advSID': 255, 'periodicAdvInt': 0}, {'addr': '80:6F:B0:EE:9C:67', 'addrType': 0, 'rssi': -65, 'advSID': 1, 'periodicAdvInt': 240}, {'addr': '80:6F:B0:EE:AA:13', 'addrType': 0, 'rssi': -65, 'advSID': 1, 'periodicAdvInt': 240}]\n",
      "Try to connect to : 80:6F:B0:EE:9C:67\n",
      "Connected to : 80:6F:B0:EE:9C:67 with connection handle 0\n",
      "Try to connect to : 80:6F:B0:EE:AA:13\n",
      "Connected to : 80:6F:B0:EE:AA:13 with connection handle 1\n",
      "AOA Params Set for Connection Handle: 0\n",
      "AOA Params Set for Connection Handle: 1\n",
      "AOA Callback Set for All Connection Handlers\n",
      "AOA Started with Connection Handle: 0\n",
      "AOA Started with Connection Handle: 1\n",
      "Going to sleep for 5 sec\n",
      "Try to stop AOA result parsing threadSTOP Command Received\n",
      "\n",
      "AOA Stopped\n",
      "Master Disconnected\n",
      "Done\n",
      "{'80:6F:B0:EE:9C:67': [3, 7, 2, 4, 4, 7, 7, 7, 15, 18, 21], '80:6F:B0:EE:AA:13': [-10, -1, -13, -24, -24, -22, -26, -30, -25, -13, -4]}\n"
     ]
    },
    {
     "name": "stderr",
     "output_type": "stream",
     "text": [
      "10.19.190.195 - - [24/Mar/2023 14:11:00] \"GET /send/94 HTTP/1.1\" 200 -\n"
     ]
    },
    {
     "name": "stdout",
     "output_type": "stream",
     "text": [
      "Plane Angle: 89\n",
      "Master : <RTLSNode(CC26x2 Master, started daemon 10440)> \n",
      "Passives : [] \n",
      "All : [<RTLSNode(CC26x2 Master, started daemon 10440)>]\n",
      "Devices Reset\n",
      "Start scan for 5 sec\n",
      "Scan Results: [{'addr': '80:6F:B0:EE:9C:67', 'addrType': 0, 'rssi': -68, 'advSID': 1, 'periodicAdvInt': 240}, {'addr': '80:6F:B0:EE:AA:13', 'addrType': 0, 'rssi': -72, 'advSID': 1, 'periodicAdvInt': 240}]\n",
      "Try to connect to : 80:6F:B0:EE:9C:67\n",
      "Connected to : 80:6F:B0:EE:9C:67 with connection handle 0\n",
      "Try to connect to : 80:6F:B0:EE:AA:13\n",
      "Connected to : 80:6F:B0:EE:AA:13 with connection handle 1\n",
      "AOA Params Set for Connection Handle: 0\n",
      "AOA Params Set for Connection Handle: 1\n",
      "AOA Callback Set for All Connection Handlers\n",
      "AOA Started with Connection Handle: 0\n",
      "AOA Started with Connection Handle: 1\n",
      "Going to sleep for 5 sec\n",
      "Try to stop AOA result parsing threadSTOP Command Received\n",
      "\n",
      "AOA Stopped\n",
      "Master Disconnected\n",
      "Done\n",
      "{'80:6F:B0:EE:9C:67': [12, 14, 13, 13, 12, 13, 17, 15, 15, 17, 16], '80:6F:B0:EE:AA:13': [-16, -21, -16, -16, -26, -23, -19, -14, -19, -18, -12]}\n"
     ]
    },
    {
     "name": "stderr",
     "output_type": "stream",
     "text": [
      "10.19.190.195 - - [24/Mar/2023 14:11:53] \"GET /send/89 HTTP/1.1\" 200 -\n",
      "f:\\intern_VisBLE\\VisBLE_INTERN\\AoA Point Cloud\\rtls_slave.py:261: RuntimeWarning: invalid value encountered in arccos\n",
      "  azimuth1 = np.arccos(cosAOAangle1/sinelvation1)\n",
      "f:\\intern_VisBLE\\VisBLE_INTERN\\AoA Point Cloud\\rtls_slave.py:258: RuntimeWarning: invalid value encountered in arccos\n",
      "  elvation1 = np.arccos((cosAOAangle2-coslevelangle*cosAOAangle1)/sinlevelangle)\n",
      "10.19.190.195 - - [24/Mar/2023 14:11:56] \"GET /calculate/ HTTP/1.1\" 200 -\n"
     ]
    },
    {
     "name": "stdout",
     "output_type": "stream",
     "text": [
      "Before Turning：{'80:6F:B0:EE:9C:67': [21, 19, 17, 17, 13, 15, 16, 16, 16, 16, 18], '80:6F:B0:EE:AA:13': [-6, -9, -11, -13, -12, -9, -7, -13, -10, -9]}\n",
      "After Turning： {'80:6F:B0:EE:9C:67': [12, 14, 13, 13, 12, 13, 17, 15, 15, 17, 16], '80:6F:B0:EE:AA:13': [-16, -21, -16, -16, -26, -23, -19, -14, -19, -18, -12]}\n",
      "Rotation Angle： [86, 89]\n"
     ]
    }
   ],
   "source": [
    "comp_parameter = .6\n",
    "app.run(host='0.0.0.0',port = 5000, debug=False)"
   ]
  }
 ],
 "metadata": {
  "kernelspec": {
   "display_name": "rtls_AoA",
   "language": "python",
   "name": "python3"
  },
  "language_info": {
   "codemirror_mode": {
    "name": "ipython",
    "version": 3
   },
   "file_extension": ".py",
   "mimetype": "text/x-python",
   "name": "python",
   "nbconvert_exporter": "python",
   "pygments_lexer": "ipython3",
   "version": "3.8.8"
  },
  "orig_nbformat": 4,
  "vscode": {
   "interpreter": {
    "hash": "9dbae62cb076e09f7a0c782a3ba615695975d66d2b4e7855eb79efabda661339"
   }
  }
 },
 "nbformat": 4,
 "nbformat_minor": 2
}
