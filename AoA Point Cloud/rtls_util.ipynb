{
 "cells": [
  {
   "attachments": {},
   "cell_type": "markdown",
   "metadata": {},
   "source": [
    "### SEVER DEFINITIONS\n"
   ]
  },
  {
   "cell_type": "code",
   "execution_count": 1,
   "metadata": {},
   "outputs": [],
   "source": [
    "# Necessary Imports\n",
    "from flask import Flask, jsonify\n",
    "from werkzeug.routing import IntegerConverter\n",
    "from _csv import Dialect as _Dialect\n",
    "import csv\n",
    "import copy\n",
    "import os\n",
    "from rtls_slave import aoa_main, pixel_calculate\n",
    "\n",
    "\n",
    "# Handle Negative Values\n",
    "class SignedIntConverter(IntegerConverter):\n",
    "    regex = r'-?\\d+'\n",
    "app = Flask(__name__)\n",
    "app.url_map.converters['signed_int'] = SignedIntConverter\n",
    "#Store input values: AoA and Horizontal Angle\n",
    "\n",
    "aoabefore = {}\n",
    "aoa= {}\n",
    "lev = []\n",
    "\n",
    "@app.route('/')\n",
    "def home():\n",
    "    return \"This is the HomePage\"\n",
    "\n",
    "#Routing Settings\n",
    "@app.route('/send/<signed_int:horiz>', methods=['GET'])\n",
    "def get_angle(horiz):\n",
    "    global aoa\n",
    "    global aoabefore\n",
    "    print(\"Plane Angle: \" + str(horiz))\n",
    "    aoa_result = aoa_main(devices=[{\"com_port\": \"COM5\", \"baud_rate\": 460800, \"name\": \"CC26x2 Master\"}])\n",
    "    input_letter = input(\"If you want to add this data to list type 'y', otherwise press Enter\")\n",
    "    if input_letter!='y':\n",
    "        return jsonify({'state':'Try Again'})\n",
    "    lev.append(horiz)\n",
    "    aoabefore = copy.deepcopy(aoa)\n",
    "    aoa = aoa_result\n",
    "        \n",
    "    return jsonify({'state': 'success'})\n",
    "\n",
    "@app.route('/calculate/', methods=['GET'])\n",
    "def calculate():\n",
    "    print(\"Before Turning：\"+str(aoabefore)+'\\n'+\"After Turning： \" + str(aoa) +'\\n'+\"Rotation Angle： \"+ str(lev))\n",
    "    #aoa_image()\n",
    "    u = []\n",
    "    v = []\n",
    "\n",
    "    set_aoa = set(aoa)\n",
    "    set_aoabefore = set(aoabefore)\n",
    "\n",
    "    for slave in set_aoa.intersection(set_aoabefore):\n",
    "        minnumber = min(len(aoabefore[slave]), len(aoa[slave]))\n",
    "        f = open(f\"./aoa_results/{slave.replace(':','_')}_before.csv\",'a',newline=\"\")\n",
    "        f.truncate()\n",
    "        writer = csv.writer(f)\n",
    "        \n",
    "\n",
    "        for i in range(minnumber):\n",
    "            for j in range(minnumber):\n",
    "                (temp1, temp2) = pixel_calculate(lev[-2] - lev[-1], aoabefore[slave][i], aoa[slave][j])\n",
    "\n",
    "                if (temp1 != 1):\n",
    "                    u.append(temp1)\n",
    "                    v.append(temp2)\n",
    "                    tupx = (temp1,temp2)\n",
    "                    writer.writerow(tupx)\n",
    "        \n",
    "        f.close()\n",
    "\n",
    "    \n",
    "    return jsonify({'state': 'success'})"
   ]
  },
  {
   "attachments": {},
   "cell_type": "markdown",
   "metadata": {},
   "source": [
    "### RUNNING THE SEVER"
   ]
  },
  {
   "cell_type": "code",
   "execution_count": 2,
   "metadata": {},
   "outputs": [
    {
     "name": "stdout",
     "output_type": "stream",
     "text": [
      " * Serving Flask app '__main__'\n",
      " * Debug mode: off\n"
     ]
    },
    {
     "name": "stderr",
     "output_type": "stream",
     "text": [
      "WARNING: This is a development server. Do not use it in a production deployment. Use a production WSGI server instead.\n",
      " * Running on all addresses (0.0.0.0)\n",
      " * Running on http://127.0.0.1:5000\n",
      " * Running on http://10.19.144.53:5000\n",
      "Press CTRL+C to quit\n"
     ]
    },
    {
     "name": "stdout",
     "output_type": "stream",
     "text": [
      "Plane Angle: -79\n",
      "Master : <RTLSNode(CC26x2 Master, started daemon 1896)> \n",
      "Passives : [] \n",
      "All : [<RTLSNode(CC26x2 Master, started daemon 1896)>]\n",
      "Devices Reset\n",
      "Start scan for 5 sec\n",
      "Scan Results: [{'addr': '80:6F:B0:EE:AA:13', 'addrType': 0, 'rssi': -71, 'advSID': 1, 'periodicAdvInt': 240}, {'addr': '80:6F:B0:EE:9C:67', 'addrType': 0, 'rssi': -60, 'advSID': 1, 'periodicAdvInt': 240}, {'addr': '80:6F:B0:EE:9C:67', 'addrType': 0, 'rssi': -60, 'advSID': 255, 'periodicAdvInt': 0}, {'addr': '80:6F:B0:EE:AA:13', 'addrType': 0, 'rssi': -63, 'advSID': 255, 'periodicAdvInt': 0}]\n",
      "Try to connect to : 80:6F:B0:EE:AA:13\n",
      "Connected to : 80:6F:B0:EE:AA:13 with connection handle 0\n",
      "Try to connect to : 80:6F:B0:EE:9C:67\n",
      "Connected to : 80:6F:B0:EE:9C:67 with connection handle None\n",
      "AOA Params Set for Connection Handle: 0\n",
      "AOA Callback Set for All Connection Handlers\n",
      "AOA Started with Connection Handle: 0\n",
      "Going to sleep for 10 sec\n",
      "Try to stop AOA result parsing threadSTOP Command Received\n",
      "\n",
      "AOA Stopped\n",
      "Master Disconnected\n",
      "Done\n",
      "{'80:6F:B0:EE:AA:13': [-35, -29, -27, -23, -21, -20, -23, -26, -29, -34, -36, -36, -34, -33, -31, -31, -29, -25, -22]}\n"
     ]
    },
    {
     "name": "stderr",
     "output_type": "stream",
     "text": [
      "10.19.190.195 - - [20/Mar/2023 12:40:31] \"GET /send/-79 HTTP/1.1\" 200 -\n"
     ]
    },
    {
     "name": "stdout",
     "output_type": "stream",
     "text": [
      "Plane Angle: -79\n",
      "Master : <RTLSNode(CC26x2 Master, started daemon 5232)> \n",
      "Passives : [] \n",
      "All : [<RTLSNode(CC26x2 Master, started daemon 5232)>]\n",
      "Devices Reset\n",
      "Start scan for 5 sec\n",
      "Scan Results: [{'addr': '80:6F:B0:EE:9C:67', 'addrType': 0, 'rssi': -62, 'advSID': 1, 'periodicAdvInt': 240}, {'addr': '80:6F:B0:EE:AA:13', 'addrType': 0, 'rssi': -65, 'advSID': 1, 'periodicAdvInt': 240}, {'addr': '80:6F:B0:EE:9C:67', 'addrType': 0, 'rssi': -60, 'advSID': 255, 'periodicAdvInt': 0}, {'addr': '80:6F:B0:EE:AA:13', 'addrType': 0, 'rssi': -63, 'advSID': 255, 'periodicAdvInt': 0}]\n",
      "Try to connect to : 80:6F:B0:EE:9C:67\n",
      "Connected to : 80:6F:B0:EE:9C:67 with connection handle 0\n",
      "Try to connect to : 80:6F:B0:EE:AA:13\n",
      "Connected to : 80:6F:B0:EE:AA:13 with connection handle 1\n",
      "AOA Params Set for Connection Handle: 0\n",
      "AOA Params Set for Connection Handle: 1\n",
      "AOA Callback Set for All Connection Handlers\n",
      "AOA Started with Connection Handle: 0\n",
      "AOA Started with Connection Handle: 1\n",
      "Going to sleep for 10 sec\n",
      "Try to stop AOA result parsing threadSTOP Command Received\n",
      "\n",
      "AOA Stopped\n",
      "Master Disconnected\n",
      "Done\n",
      "{'80:6F:B0:EE:9C:67': [33, 33, 33, 32, 31, 32, 33, 33, 33, 33, 33, 33, 32, 32, 32, 32, 32, 32, 32, 33, 32, 33], '80:6F:B0:EE:AA:13': [-20, -28, -30, -28, -30, -32, -27, -27, -26, -24, -22, -20, -23, -21, -21, -21, -22, -24, -28, -28, -31, -33]}\n"
     ]
    },
    {
     "name": "stderr",
     "output_type": "stream",
     "text": [
      "10.19.190.195 - - [20/Mar/2023 12:41:10] \"GET /send/-79 HTTP/1.1\" 200 -\n"
     ]
    },
    {
     "name": "stdout",
     "output_type": "stream",
     "text": [
      "Plane Angle: -79\n",
      "Master : <RTLSNode(CC26x2 Master, started daemon 13272)> \n",
      "Passives : [] \n",
      "All : [<RTLSNode(CC26x2 Master, started daemon 13272)>]\n",
      "Devices Reset\n",
      "Start scan for 5 sec\n",
      "Scan Results: [{'addr': '80:6F:B0:EE:9C:67', 'addrType': 0, 'rssi': -65, 'advSID': 1, 'periodicAdvInt': 240}, {'addr': '80:6F:B0:EE:AA:13', 'addrType': 0, 'rssi': -63, 'advSID': 1, 'periodicAdvInt': 240}, {'addr': '80:6F:B0:EE:AA:13', 'addrType': 0, 'rssi': -63, 'advSID': 255, 'periodicAdvInt': 0}]\n",
      "Try to connect to : 80:6F:B0:EE:9C:67\n",
      "Connected to : 80:6F:B0:EE:9C:67 with connection handle None\n",
      "Try to connect to : 80:6F:B0:EE:AA:13\n",
      "Connected to : 80:6F:B0:EE:AA:13 with connection handle 0\n",
      "AOA Params Set for Connection Handle: 0\n",
      "AOA Callback Set for All Connection Handlers\n",
      "AOA Started with Connection Handle: 0\n",
      "Going to sleep for 10 sec\n",
      "Try to stop AOA result parsing threadSTOP Command Received\n",
      "\n",
      "AOA Stopped\n",
      "Master Disconnected\n",
      "Done\n",
      "{'80:6F:B0:EE:AA:13': [-30, -28, -29, -31, -31, -32, -27, -28, -28, -26, -24, -23, -25, -26, -26, -27, -28, -31, -31, -28, -28, -25, -23]}\n"
     ]
    },
    {
     "name": "stderr",
     "output_type": "stream",
     "text": [
      "10.19.190.195 - - [20/Mar/2023 12:41:51] \"GET /send/-79 HTTP/1.1\" 200 -\n"
     ]
    },
    {
     "name": "stdout",
     "output_type": "stream",
     "text": [
      "Plane Angle: -79\n",
      "Master : <RTLSNode(CC26x2 Master, started daemon 12312)> \n",
      "Passives : [] \n",
      "All : [<RTLSNode(CC26x2 Master, started daemon 12312)>]\n",
      "Devices Reset\n",
      "Start scan for 5 sec\n",
      "Scan Results: [{'addr': '80:6F:B0:EE:AA:13', 'addrType': 0, 'rssi': -74, 'advSID': 255, 'periodicAdvInt': 0}, {'addr': '80:6F:B0:EE:9C:67', 'addrType': 0, 'rssi': -62, 'advSID': 255, 'periodicAdvInt': 0}, {'addr': '80:6F:B0:EE:AA:13', 'addrType': 0, 'rssi': -68, 'advSID': 1, 'periodicAdvInt': 240}]\n",
      "Try to connect to : 80:6F:B0:EE:AA:13\n",
      "Connected to : 80:6F:B0:EE:AA:13 with connection handle None\n",
      "AOA Callback Set for All Connection Handlers\n",
      "Going to sleep for 10 sec\n",
      "Try to stop AOA result parsing threadSTOP Command Received\n",
      "\n",
      "AOA Stopped\n",
      "Done\n",
      "{}\n"
     ]
    },
    {
     "name": "stderr",
     "output_type": "stream",
     "text": [
      "10.19.190.195 - - [20/Mar/2023 12:42:53] \"GET /send/-79 HTTP/1.1\" 200 -\n"
     ]
    },
    {
     "name": "stdout",
     "output_type": "stream",
     "text": [
      "Plane Angle: -79\n",
      "Master : <RTLSNode(CC26x2 Master, started daemon 7224)> \n",
      "Passives : [] \n",
      "All : [<RTLSNode(CC26x2 Master, started daemon 7224)>]\n",
      "Devices Reset\n",
      "Start scan for 5 sec\n",
      "Scan Results: [{'addr': '80:6F:B0:EE:AA:13', 'addrType': 0, 'rssi': -69, 'advSID': 255, 'periodicAdvInt': 0}, {'addr': '80:6F:B0:EE:9C:67', 'addrType': 0, 'rssi': -58, 'advSID': 255, 'periodicAdvInt': 0}, {'addr': '80:6F:B0:EE:AA:13', 'addrType': 0, 'rssi': -68, 'advSID': 1, 'periodicAdvInt': 240}, {'addr': '80:6F:B0:EE:9C:67', 'addrType': 0, 'rssi': -60, 'advSID': 1, 'periodicAdvInt': 240}]\n",
      "Try to connect to : 80:6F:B0:EE:AA:13\n",
      "Connected to : 80:6F:B0:EE:AA:13 with connection handle 0\n",
      "Try to connect to : 80:6F:B0:EE:9C:67\n",
      "Connected to : 80:6F:B0:EE:9C:67 with connection handle 1\n",
      "AOA Params Set for Connection Handle: 0\n",
      "AOA Params Set for Connection Handle: 1\n",
      "AOA Callback Set for All Connection Handlers\n",
      "AOA Started with Connection Handle: 0\n",
      "AOA Started with Connection Handle: 1\n",
      "Going to sleep for 10 sec\n",
      "Try to stop AOA result parsing threadSTOP Command Received\n",
      "\n",
      "AOA Stopped\n",
      "Master Disconnected\n",
      "Done\n",
      "{'80:6F:B0:EE:AA:13': [-18, -17, -18, -19, -17, -17, -18, -18, -16, -15, -18, -16, -15, -13, -15, -15, -13, -15, -14, -17, -16, -14], '80:6F:B0:EE:9C:67': [34, 33, 33, 31, 33, 31, 31, 33, 32, 34, 34, 34, 33, 33, 33, 33, 33, 32, 32, 33, 34]}\n"
     ]
    },
    {
     "name": "stderr",
     "output_type": "stream",
     "text": [
      "10.19.190.195 - - [20/Mar/2023 12:43:28] \"GET /send/-79 HTTP/1.1\" 200 -\n"
     ]
    },
    {
     "name": "stdout",
     "output_type": "stream",
     "text": [
      "Plane Angle: -77\n",
      "Master : <RTLSNode(CC26x2 Master, started daemon 12068)> \n",
      "Passives : [] \n",
      "All : [<RTLSNode(CC26x2 Master, started daemon 12068)>]\n",
      "Devices Reset\n",
      "Start scan for 5 sec\n",
      "Scan Results: [{'addr': '80:6F:B0:EE:AA:13', 'addrType': 0, 'rssi': -83, 'advSID': 1, 'periodicAdvInt': 240}, {'addr': '80:6F:B0:EE:9C:67', 'addrType': 0, 'rssi': -59, 'advSID': 1, 'periodicAdvInt': 240}, {'addr': '80:6F:B0:EE:AA:13', 'addrType': 0, 'rssi': -69, 'advSID': 255, 'periodicAdvInt': 0}, {'addr': '80:6F:B0:EE:9C:67', 'addrType': 0, 'rssi': -58, 'advSID': 255, 'periodicAdvInt': 0}]\n",
      "Try to connect to : 80:6F:B0:EE:AA:13\n",
      "Connected to : 80:6F:B0:EE:AA:13 with connection handle None\n",
      "Try to connect to : 80:6F:B0:EE:9C:67\n",
      "Connected to : 80:6F:B0:EE:9C:67 with connection handle 0\n",
      "AOA Params Set for Connection Handle: 0\n",
      "AOA Callback Set for All Connection Handlers\n",
      "AOA Started with Connection Handle: 0\n",
      "Going to sleep for 10 sec\n",
      "Try to stop AOA result parsing threadSTOP Command Received\n",
      "\n",
      "AOA Stopped\n",
      "Master Disconnected\n",
      "Done\n",
      "{'80:6F:B0:EE:9C:67': [36, 35, 34, 35, 35, 34, 35, 35, 35, 35, 34, 35, 34, 34, 35, 35, 35, 33, 35, 35, 35, 35, 35]}\n"
     ]
    },
    {
     "name": "stderr",
     "output_type": "stream",
     "text": [
      "10.19.190.195 - - [20/Mar/2023 12:44:18] \"GET /send/-77 HTTP/1.1\" 200 -\n"
     ]
    },
    {
     "name": "stdout",
     "output_type": "stream",
     "text": [
      "Plane Angle: -77\n",
      "Master : <RTLSNode(CC26x2 Master, started daemon 668)> \n",
      "Passives : [] \n",
      "All : [<RTLSNode(CC26x2 Master, started daemon 668)>]\n",
      "Devices Reset\n",
      "Start scan for 5 sec\n",
      "Scan Results: [{'addr': '80:6F:B0:EE:9C:67', 'addrType': 0, 'rssi': -72, 'advSID': 1, 'periodicAdvInt': 240}, {'addr': '80:6F:B0:EE:AA:13', 'addrType': 0, 'rssi': -69, 'advSID': 1, 'periodicAdvInt': 240}, {'addr': '80:6F:B0:EE:AA:13', 'addrType': 0, 'rssi': -69, 'advSID': 255, 'periodicAdvInt': 0}]\n",
      "Try to connect to : 80:6F:B0:EE:9C:67\n",
      "Connected to : 80:6F:B0:EE:9C:67 with connection handle 0\n",
      "Try to connect to : 80:6F:B0:EE:AA:13\n",
      "Connected to : 80:6F:B0:EE:AA:13 with connection handle None\n",
      "AOA Params Set for Connection Handle: 0\n",
      "AOA Callback Set for All Connection Handlers\n",
      "AOA Started with Connection Handle: 0\n",
      "Going to sleep for 10 sec\n",
      "Try to stop AOA result parsing threadSTOP Command Received\n",
      "\n",
      "AOA Stopped\n",
      "Master Disconnected\n",
      "Done\n",
      "{'80:6F:B0:EE:9C:67': [35, 34, 35, 35, 35, 35, 35, 35, 35, 34, 35, 35, 35, 36, 35, 35, 34, 34, 35, 35, 35, 36, 36, 36]}\n"
     ]
    },
    {
     "name": "stderr",
     "output_type": "stream",
     "text": [
      "10.19.190.195 - - [20/Mar/2023 12:45:08] \"GET /send/-77 HTTP/1.1\" 200 -\n"
     ]
    },
    {
     "name": "stdout",
     "output_type": "stream",
     "text": [
      "Plane Angle: -78\n",
      "Master : <RTLSNode(CC26x2 Master, started daemon 1880)> \n",
      "Passives : [] \n",
      "All : [<RTLSNode(CC26x2 Master, started daemon 1880)>]\n",
      "Devices Reset\n",
      "Start scan for 5 sec\n",
      "Scan Results: [{'addr': '80:6F:B0:EE:9C:67', 'addrType': 0, 'rssi': -72, 'advSID': 1, 'periodicAdvInt': 240}, {'addr': '80:6F:B0:EE:AA:13', 'addrType': 0, 'rssi': -66, 'advSID': 1, 'periodicAdvInt': 240}, {'addr': '80:6F:B0:EE:AA:13', 'addrType': 0, 'rssi': -69, 'advSID': 255, 'periodicAdvInt': 0}, {'addr': '80:6F:B0:EE:9C:67', 'addrType': 0, 'rssi': -58, 'advSID': 255, 'periodicAdvInt': 0}]\n",
      "Try to connect to : 80:6F:B0:EE:9C:67\n",
      "Connected to : 80:6F:B0:EE:9C:67 with connection handle None\n",
      "Try to connect to : 80:6F:B0:EE:AA:13\n"
     ]
    },
    {
     "name": "stderr",
     "output_type": "stream",
     "text": [
      "Exception in thread Thread-26:\n",
      "Traceback (most recent call last):\n",
      "  File \"C:\\Users\\sanji\\.pyenv\\pyenv-win\\versions\\3.8.8\\lib\\threading.py\", line 932, in _bootstrap_inner\n",
      "    self.run()\n",
      "  File \"C:\\Users\\sanji\\.pyenv\\pyenv-win\\versions\\3.8.8\\lib\\threading.py\", line 870, in run\n",
      "    self._target(*self._args, **self._kwargs)\n",
      "  File \"e:\\intern_VisBLE\\VisBLE_INTERN\\AoA Point Cloud\\rtls_slave.py\", line 25, in results_parsing\n",
      "    addr = all_conn_handles[data['payload']['connHandle']]\n",
      "KeyError: 0\n"
     ]
    },
    {
     "name": "stdout",
     "output_type": "stream",
     "text": [
      "Connected to : 80:6F:B0:EE:AA:13 with connection handle None\n",
      "AOA Callback Set for All Connection Handlers\n",
      "Going to sleep for 10 sec\n",
      "Try to stop AOA result parsing thread\n",
      "AOA Stopped\n",
      "Done\n",
      "{}\n"
     ]
    },
    {
     "name": "stderr",
     "output_type": "stream",
     "text": [
      "10.19.190.195 - - [20/Mar/2023 12:45:37] \"GET /send/-78 HTTP/1.1\" 200 -\n"
     ]
    },
    {
     "name": "stdout",
     "output_type": "stream",
     "text": [
      "Plane Angle: -78\n",
      "Master : <RTLSNode(CC26x2 Master, started daemon 8960)> \n",
      "Passives : [] \n",
      "All : [<RTLSNode(CC26x2 Master, started daemon 8960)>]\n",
      "Devices Reset\n",
      "Start scan for 5 sec\n",
      "Scan Results: [{'addr': '80:6F:B0:EE:AA:13', 'addrType': 0, 'rssi': -67, 'advSID': 1, 'periodicAdvInt': 240}, {'addr': '80:6F:B0:EE:9C:67', 'addrType': 0, 'rssi': -60, 'advSID': 1, 'periodicAdvInt': 240}, {'addr': '80:6F:B0:EE:9C:67', 'addrType': 0, 'rssi': -58, 'advSID': 255, 'periodicAdvInt': 0}, {'addr': '80:6F:B0:EE:AA:13', 'addrType': 0, 'rssi': -69, 'advSID': 255, 'periodicAdvInt': 0}]\n",
      "Try to connect to : 80:6F:B0:EE:AA:13\n",
      "Connected to : 80:6F:B0:EE:AA:13 with connection handle None\n",
      "Try to connect to : 80:6F:B0:EE:9C:67\n",
      "Connected to : 80:6F:B0:EE:9C:67 with connection handle 0\n",
      "AOA Params Set for Connection Handle: 0\n",
      "AOA Callback Set for All Connection Handlers\n",
      "AOA Started with Connection Handle: 0\n",
      "Going to sleep for 10 sec\n",
      "Try to stop AOA result parsing threadSTOP Command Received\n",
      "\n",
      "AOA Stopped\n",
      "Master Disconnected\n",
      "Done\n",
      "{'80:6F:B0:EE:9C:67': [35, 35, 35, 35, 35, 35, 35, 35, 36, 36, 36, 36, 35, 35, 34, 35, 35, 35, 35, 35, 35, 35, 35, 35, 35]}\n"
     ]
    },
    {
     "name": "stderr",
     "output_type": "stream",
     "text": [
      "10.19.190.195 - - [20/Mar/2023 12:46:57] \"GET /send/-78 HTTP/1.1\" 200 -\n"
     ]
    },
    {
     "name": "stdout",
     "output_type": "stream",
     "text": [
      "Plane Angle: -78\n",
      "Master : <RTLSNode(CC26x2 Master, started daemon 6856)> \n",
      "Passives : [] \n",
      "All : [<RTLSNode(CC26x2 Master, started daemon 6856)>]\n",
      "Devices Reset\n",
      "Start scan for 5 sec\n",
      "Scan Results: [{'addr': '80:6F:B0:EE:9C:67', 'addrType': 0, 'rssi': -66, 'advSID': 255, 'periodicAdvInt': 0}, {'addr': '80:6F:B0:EE:AA:13', 'addrType': 0, 'rssi': -68, 'advSID': 255, 'periodicAdvInt': 0}, {'addr': '80:6F:B0:EE:AA:13', 'addrType': 0, 'rssi': -69, 'advSID': 1, 'periodicAdvInt': 240}, {'addr': '80:6F:B0:EE:9C:67', 'addrType': 0, 'rssi': -59, 'advSID': 1, 'periodicAdvInt': 240}]\n",
      "Try to connect to : 80:6F:B0:EE:AA:13\n",
      "Connected to : 80:6F:B0:EE:AA:13 with connection handle 0\n",
      "Try to connect to : 80:6F:B0:EE:9C:67\n",
      "Connected to : 80:6F:B0:EE:9C:67 with connection handle 1\n",
      "AOA Params Set for Connection Handle: 0\n",
      "AOA Params Set for Connection Handle: 1\n",
      "AOA Callback Set for All Connection Handlers\n",
      "AOA Started with Connection Handle: 0\n",
      "AOA Started with Connection Handle: 1\n",
      "Going to sleep for 10 sec\n",
      "Try to stop AOA result parsing threadSTOP Command Received\n",
      "\n",
      "AOA Stopped\n",
      "Master Disconnected\n",
      "Done\n",
      "{'80:6F:B0:EE:AA:13': [-22, -20, -22, -22, -21, -20, -21, -22, -19, -19, -21, -20, -20, -22, -22, -20, -19, -20, -19, -19, -20, -21, -19, -19, -20], '80:6F:B0:EE:9C:67': [35, 35, 34, 34, 35, 34, 34, 35, 35, 35, 35, 34, 34, 34, 35, 35, 35, 35, 34, 35, 34, 34, 35, 34]}\n"
     ]
    },
    {
     "name": "stderr",
     "output_type": "stream",
     "text": [
      "10.19.190.195 - - [20/Mar/2023 12:47:34] \"GET /send/-78 HTTP/1.1\" 200 -\n",
      "e:\\intern_VisBLE\\VisBLE_INTERN\\AoA Point Cloud\\rtls_slave.py:251: RuntimeWarning: invalid value encountered in arccos\n",
      "  elvation1 = np.arccos((cosAOAangle2-coslevelangle*cosAOAangle1)/sinlevelangle)\n",
      "e:\\intern_VisBLE\\VisBLE_INTERN\\AoA Point Cloud\\rtls_slave.py:254: RuntimeWarning: invalid value encountered in arccos\n",
      "  azimuth1 = np.arccos(cosAOAangle1/sinelvation1)\n",
      "10.19.190.195 - - [20/Mar/2023 12:48:03] \"GET /calculate/ HTTP/1.1\" 200 -\n"
     ]
    },
    {
     "name": "stdout",
     "output_type": "stream",
     "text": [
      "Before Turning：{'80:6F:B0:EE:AA:13': [-18, -17, -18, -19, -17, -17, -18, -18, -16, -15, -18, -16, -15, -13, -15, -15, -13, -15, -14, -17, -16, -14], '80:6F:B0:EE:9C:67': [34, 33, 33, 31, 33, 31, 31, 33, 32, 34, 34, 34, 33, 33, 33, 33, 33, 32, 32, 33, 34]}\n",
      "After Turning： {'80:6F:B0:EE:AA:13': [-22, -20, -22, -22, -21, -20, -21, -22, -19, -19, -21, -20, -20, -22, -22, -20, -19, -20, -19, -19, -20, -21, -19, -19, -20], '80:6F:B0:EE:9C:67': [35, 35, 34, 34, 35, 34, 34, 35, 35, 35, 35, 34, 34, 34, 35, 35, 35, 35, 34, 35, 34, 34, 35, 34]}\n",
      "Rotation Angle： [-79, -78]\n",
      "Plane Angle: -77\n",
      "Master : <RTLSNode(CC26x2 Master, started daemon 2124)> \n",
      "Passives : [] \n",
      "All : [<RTLSNode(CC26x2 Master, started daemon 2124)>]\n",
      "Devices Reset\n",
      "Start scan for 5 sec\n",
      "Scan Results: [{'addr': '80:6F:B0:EE:AA:13', 'addrType': 0, 'rssi': -78, 'advSID': 1, 'periodicAdvInt': 240}, {'addr': '80:6F:B0:EE:9C:67', 'addrType': 0, 'rssi': -60, 'advSID': 1, 'periodicAdvInt': 240}, {'addr': '80:6F:B0:EE:AA:13', 'addrType': 0, 'rssi': -69, 'advSID': 255, 'periodicAdvInt': 0}, {'addr': '80:6F:B0:EE:9C:67', 'addrType': 0, 'rssi': -58, 'advSID': 255, 'periodicAdvInt': 0}]\n",
      "Try to connect to : 80:6F:B0:EE:AA:13\n",
      "Connected to : 80:6F:B0:EE:AA:13 with connection handle None\n",
      "Try to connect to : 80:6F:B0:EE:9C:67\n",
      "Connected to : 80:6F:B0:EE:9C:67 with connection handle 0\n",
      "AOA Params Set for Connection Handle: 0\n",
      "AOA Callback Set for All Connection Handlers\n",
      "AOA Started with Connection Handle: 0\n",
      "Going to sleep for 10 sec\n",
      "Try to stop AOA result parsing threadSTOP Command Received\n",
      "\n",
      "AOA Stopped\n",
      "Master Disconnected\n",
      "Done\n",
      "{'80:6F:B0:EE:9C:67': [34, 33, 34, 34, 33, 33, 33, 34, 34, 34, 35, 35, 36, 36, 35, 35, 35, 35, 34, 34, 34, 34, 34]}\n"
     ]
    },
    {
     "name": "stderr",
     "output_type": "stream",
     "text": [
      "10.19.190.195 - - [20/Mar/2023 12:51:08] \"GET /send/-77 HTTP/1.1\" 200 -\n"
     ]
    },
    {
     "name": "stdout",
     "output_type": "stream",
     "text": [
      "Plane Angle: -77\n",
      "Master : <RTLSNode(CC26x2 Master, started daemon 4192)> \n",
      "Passives : [] \n",
      "All : [<RTLSNode(CC26x2 Master, started daemon 4192)>]\n",
      "Devices Reset\n",
      "Start scan for 5 sec\n",
      "Scan Results: [{'addr': '80:6F:B0:EE:9C:67', 'addrType': 0, 'rssi': -65, 'advSID': 255, 'periodicAdvInt': 0}, {'addr': '80:6F:B0:EE:AA:13', 'addrType': 0, 'rssi': -69, 'advSID': 255, 'periodicAdvInt': 0}, {'addr': '80:6F:B0:EE:9C:67', 'addrType': 0, 'rssi': -58, 'advSID': 1, 'periodicAdvInt': 240}, {'addr': '80:6F:B0:EE:AA:13', 'addrType': 0, 'rssi': -67, 'advSID': 1, 'periodicAdvInt': 240}]\n",
      "Try to connect to : 80:6F:B0:EE:9C:67\n",
      "Connected to : 80:6F:B0:EE:9C:67 with connection handle 0\n",
      "Try to connect to : 80:6F:B0:EE:AA:13\n",
      "Connected to : 80:6F:B0:EE:AA:13 with connection handle 1\n",
      "AOA Params Set for Connection Handle: 0\n",
      "AOA Params Set for Connection Handle: 1\n",
      "AOA Callback Set for All Connection Handlers\n",
      "AOA Started with Connection Handle: 0\n",
      "AOA Started with Connection Handle: 1\n",
      "Going to sleep for 10 sec\n",
      "Try to stop AOA result parsing threadSTOP Command Received\n",
      "\n",
      "AOA Stopped\n",
      "Master Disconnected\n",
      "Done\n",
      "{'80:6F:B0:EE:AA:13': [-20, -22, -25, -24, -19, -19, -18, -17, -13, -15, -15, -16, -13, -17, -18, -20, -20, -22, -23, -22], '80:6F:B0:EE:9C:67': [35, 33, 32, 34, 34, 33, 34, 35, 35, 34, 33, 34, 34, 33, 33, 34, 34, 34, 34, 34, 34, 33, 35, 35]}\n"
     ]
    },
    {
     "name": "stderr",
     "output_type": "stream",
     "text": [
      "10.19.190.195 - - [20/Mar/2023 12:51:49] \"GET /send/-77 HTTP/1.1\" 200 -\n",
      "e:\\intern_VisBLE\\VisBLE_INTERN\\AoA Point Cloud\\rtls_slave.py:254: RuntimeWarning: invalid value encountered in arccos\n",
      "  azimuth1 = np.arccos(cosAOAangle1/sinelvation1)\n",
      "e:\\intern_VisBLE\\VisBLE_INTERN\\AoA Point Cloud\\rtls_slave.py:251: RuntimeWarning: invalid value encountered in arccos\n",
      "  elvation1 = np.arccos((cosAOAangle2-coslevelangle*cosAOAangle1)/sinlevelangle)\n",
      "10.19.190.195 - - [20/Mar/2023 12:51:55] \"GET /calculate/ HTTP/1.1\" 200 -\n"
     ]
    },
    {
     "name": "stdout",
     "output_type": "stream",
     "text": [
      "Before Turning：{'80:6F:B0:EE:AA:13': [-22, -20, -22, -22, -21, -20, -21, -22, -19, -19, -21, -20, -20, -22, -22, -20, -19, -20, -19, -19, -20, -21, -19, -19, -20], '80:6F:B0:EE:9C:67': [35, 35, 34, 34, 35, 34, 34, 35, 35, 35, 35, 34, 34, 34, 35, 35, 35, 35, 34, 35, 34, 34, 35, 34]}\n",
      "After Turning： {'80:6F:B0:EE:AA:13': [-20, -22, -25, -24, -19, -19, -18, -17, -13, -15, -15, -16, -13, -17, -18, -20, -20, -22, -23, -22], '80:6F:B0:EE:9C:67': [35, 33, 32, 34, 34, 33, 34, 35, 35, 34, 33, 34, 34, 33, 33, 34, 34, 34, 34, 34, 34, 33, 35, 35]}\n",
      "Rotation Angle： [-79, -78, -77]\n"
     ]
    }
   ],
   "source": [
    "app.run(host='0.0.0.0',port = 5000, debug=False) "
   ]
  }
 ],
 "metadata": {
  "kernelspec": {
   "display_name": "rtls_AoA",
   "language": "python",
   "name": "python3"
  },
  "language_info": {
   "codemirror_mode": {
    "name": "ipython",
    "version": 3
   },
   "file_extension": ".py",
   "mimetype": "text/x-python",
   "name": "python",
   "nbconvert_exporter": "python",
   "pygments_lexer": "ipython3",
   "version": "3.8.8"
  },
  "orig_nbformat": 4,
  "vscode": {
   "interpreter": {
    "hash": "9dbae62cb076e09f7a0c782a3ba615695975d66d2b4e7855eb79efabda661339"
   }
  }
 },
 "nbformat": 4,
 "nbformat_minor": 2
}
