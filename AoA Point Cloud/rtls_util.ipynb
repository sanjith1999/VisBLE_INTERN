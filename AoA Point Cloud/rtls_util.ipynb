{
 "cells": [
  {
   "attachments": {},
   "cell_type": "markdown",
   "metadata": {},
   "source": [
    "### SEVER DEFINITIONS\n"
   ]
  },
  {
   "cell_type": "code",
   "execution_count": 1,
   "metadata": {},
   "outputs": [],
   "source": [
    "# Necessary Imports\n",
    "from flask import Flask, jsonify\n",
    "from werkzeug.routing import IntegerConverter\n",
    "from _csv import Dialect as _Dialect\n",
    "import csv\n",
    "import copy\n",
    "import os\n",
    "from rtls_slave import aoa_main, pixel_calculate\n",
    "\n",
    "\n",
    "# Handle Negative Values\n",
    "class SignedIntConverter(IntegerConverter):\n",
    "    regex = r'-?\\d+'\n",
    "app = Flask(__name__)\n",
    "app.url_map.converters['signed_int'] = SignedIntConverter\n",
    "#Store input values: AoA and Horizontal Angle\n",
    "\n",
    "aoabefore = {}\n",
    "aoa= {}\n",
    "lev = []\n",
    "\n",
    "@app.route('/')\n",
    "def home():\n",
    "    return \"This is the HomePage\"\n",
    "\n",
    "#Routing Settings\n",
    "@app.route('/send/<signed_int:horiz>', methods=['GET'])\n",
    "def get_angle(horiz):\n",
    "    global aoa\n",
    "    global aoabefore\n",
    "    print(\"Plane Angle: \" + str(horiz))\n",
    "    aoa_result = aoa_main()\n",
    "    input_letter = input(\"If you want to add this data to list type 'y', otherwise press Enter\")\n",
    "    if input_letter=='y':\n",
    "        lev.append(horiz)\n",
    "        aoabefore = copy.deepcopy(aoa)\n",
    "        aoa = aoa_result\n",
    "        \n",
    "    return jsonify({'state': 'success'})\n",
    "\n",
    "@app.route('/calculate/', methods=['GET'])\n",
    "def calculate():\n",
    "    print(\"Before Turning：\"+str(aoabefore)+'\\n'+\"After Turning： \" + str(aoa) +'\\n'+\"Rotation Angle： \"+ str(lev))\n",
    "    #aoa_image()\n",
    "    u = []\n",
    "    v = []\n",
    "\n",
    "    set_aoa = set(aoa)\n",
    "    set_aoabefore = set(aoabefore)\n",
    "\n",
    "    for slave in set_aoa.intersection(set_aoabefore):\n",
    "        minnumber = min(len(aoabefore[slave]), len(aoa[slave]))\n",
    "        f = open(f\"./aoa_results/{slave.replace(':','_')}_aoa_data_before_calibration.csv\",'a',newline=\"\")\n",
    "        f.truncate()\n",
    "        writer = csv.writer(f)\n",
    "        \n",
    "\n",
    "        for i in range(minnumber):\n",
    "            for j in range(minnumber):\n",
    "                (temp1, temp2) = pixel_calculate(lev[-2] - lev[-1], aoabefore[slave][i], aoa[slave][j])\n",
    "\n",
    "                if (temp1 != 1):\n",
    "                    u.append(temp1)\n",
    "                    v.append(temp2)\n",
    "                    tupx = (temp1,temp2)\n",
    "                    writer.writerow(tupx)\n",
    "        \n",
    "        f.close()\n",
    "\n",
    "    \n",
    "    return jsonify({'state': 'success'})"
   ]
  },
  {
   "attachments": {},
   "cell_type": "markdown",
   "metadata": {},
   "source": [
    "### RUNNING THE SEVER"
   ]
  },
  {
   "cell_type": "code",
   "execution_count": 2,
   "metadata": {},
   "outputs": [
    {
     "name": "stdout",
     "output_type": "stream",
     "text": [
      " * Serving Flask app '__main__' (lazy loading)\n",
      " * Environment: production\n",
      "\u001b[31m   WARNING: This is a development server. Do not use it in a production deployment.\u001b[0m\n",
      "\u001b[2m   Use a production WSGI server instead.\u001b[0m\n",
      " * Debug mode: off\n"
     ]
    },
    {
     "name": "stderr",
     "output_type": "stream",
     "text": [
      "WARNING: This is a development server. Do not use it in a production deployment. Use a production WSGI server instead.\n",
      " * Running on all addresses (0.0.0.0)\n",
      " * Running on http://127.0.0.1:5000\n",
      " * Running on http://10.19.217.212:5000\n",
      "Press CTRL+C to quit\n"
     ]
    },
    {
     "name": "stdout",
     "output_type": "stream",
     "text": [
      "Plane Angle: 122\n",
      "Master : <RTLSNode(CC26x2 Master, started daemon 22456)> \n",
      "Passives : [] \n",
      "All : [<RTLSNode(CC26x2 Master, started daemon 22456)>]\n",
      "Devices Reset\n",
      "Start scan for 5 sec\n",
      "Scan Results: [{'addr': '80:6F:B0:EE:9C:67', 'addrType': 0, 'rssi': -60, 'advSID': 1, 'periodicAdvInt': 240}, {'addr': 'F8:8A:5E:2D:89:EA', 'addrType': 0, 'rssi': -96, 'advSID': 255, 'periodicAdvInt': 0}, {'addr': 'F8:8A:5E:2D:89:EA', 'addrType': 0, 'rssi': -91, 'advSID': 1, 'periodicAdvInt': 240}, {'addr': '80:6F:B0:EE:9C:67', 'addrType': 0, 'rssi': -66, 'advSID': 255, 'periodicAdvInt': 0}]\n",
      "Try to connect to : 80:6F:B0:EE:9C:67\n",
      "Connected to : 80:6F:B0:EE:9C:67 with connection handle 0\n",
      "Try to connect to : F8:8A:5E:2D:89:EA\n",
      "Connected to : F8:8A:5E:2D:89:EA with connection handle 1\n",
      "AOA Params Set for Connection Handle: 0\n",
      "AOA Params Set for Connection Handle: 1\n",
      "AOA Callback Set for All Connection Handlers\n",
      "AOA Started with Connection Handle: 0\n",
      "AOA Started with Connection Handle: 1\n",
      "Going to sleep for 10 sec\n",
      "Try to stop AOA result parsing threadSTOP Command Received\n",
      "\n",
      "AOA Stopped\n",
      "Master Disconnected\n",
      "Done\n",
      "{'80:6F:B0:EE:9C:67': [21, 32, 35, 28, 29, 31, 28, 22, 19, 27, 25, 21, 28, 41, 38, 35, 37, 43, 45, 43, 25, 34, 31, 29], 'F8:8A:5E:2D:89:EA': [-4, -7, -9, -10, -12, -10, -12, -12, -12, -11, -10, -12, -13, -12, -11, -13, -4, -4, -1, -3]}\n"
     ]
    },
    {
     "name": "stderr",
     "output_type": "stream",
     "text": [
      "10.19.190.195 - - [18/Mar/2023 12:15:43] \"GET /send/122 HTTP/1.1\" 200 -\n"
     ]
    },
    {
     "name": "stdout",
     "output_type": "stream",
     "text": [
      "Plane Angle: 122\n",
      "Master : <RTLSNode(CC26x2 Master, started daemon 17096)> \n",
      "Passives : [] \n",
      "All : [<RTLSNode(CC26x2 Master, started daemon 17096)>]\n",
      "Devices Reset\n",
      "Start scan for 5 sec\n",
      "Scan Results: [{'addr': 'F8:8A:5E:2D:89:EA', 'addrType': 0, 'rssi': -94, 'advSID': 255, 'periodicAdvInt': 0}, {'addr': '80:6F:B0:EE:9C:67', 'addrType': 0, 'rssi': -63, 'advSID': 255, 'periodicAdvInt': 0}]\n",
      "AOA Callback Set for All Connection Handlers\n",
      "Going to sleep for 10 sec\n",
      "Try to stop AOA result parsing threadSTOP Command Received\n",
      "\n",
      "AOA Stopped\n",
      "Done\n",
      "{}\n"
     ]
    },
    {
     "name": "stderr",
     "output_type": "stream",
     "text": [
      "10.19.190.195 - - [18/Mar/2023 12:16:21] \"GET /send/122 HTTP/1.1\" 200 -\n"
     ]
    },
    {
     "name": "stdout",
     "output_type": "stream",
     "text": [
      "Plane Angle: 98\n",
      "Master : <RTLSNode(CC26x2 Master, started daemon 20584)> \n",
      "Passives : [] \n",
      "All : [<RTLSNode(CC26x2 Master, started daemon 20584)>]\n",
      "Devices Reset\n",
      "Start scan for 5 sec\n",
      "Scan Results: [{'addr': 'F8:8A:5E:2D:89:EA', 'addrType': 0, 'rssi': -91, 'advSID': 1, 'periodicAdvInt': 240}, {'addr': '80:6F:B0:EE:9C:67', 'addrType': 0, 'rssi': -61, 'advSID': 1, 'periodicAdvInt': 240}, {'addr': 'F8:8A:5E:2D:89:EA', 'addrType': 0, 'rssi': -94, 'advSID': 255, 'periodicAdvInt': 0}]\n",
      "Try to connect to : F8:8A:5E:2D:89:EA\n",
      "Connected to : F8:8A:5E:2D:89:EA with connection handle 0\n",
      "Try to connect to : 80:6F:B0:EE:9C:67\n",
      "Connected to : 80:6F:B0:EE:9C:67 with connection handle None\n",
      "AOA Params Set for Connection Handle: 0\n",
      "AOA Callback Set for All Connection Handlers\n",
      "AOA Started with Connection Handle: 0\n",
      "Going to sleep for 10 sec\n",
      "Try to stop AOA result parsing threadSTOP Command Received\n",
      "\n",
      "AOA Stopped\n",
      "Master Disconnected\n",
      "Done\n",
      "{'F8:8A:5E:2D:89:EA': [22, 25, 22, 24, 25, 25, 26, 26, 27, 24, 28, 28, 24, 26, 26, 19, 18, 20, 20, 20, 23, 22, 22, 23, 22]}\n",
      "Plane Angle: 98\n",
      "Master : <RTLSNode(CC26x2 Master, started daemon 22308)> \n",
      "Passives : [] \n",
      "All : [<RTLSNode(CC26x2 Master, started daemon 22308)>]\n",
      "Devices Reset\n",
      "Start scan for 5 sec\n"
     ]
    },
    {
     "name": "stderr",
     "output_type": "stream",
     "text": [
      "10.19.190.195 - - [18/Mar/2023 12:18:05] \"GET /send/98 HTTP/1.1\" 200 -\n"
     ]
    },
    {
     "name": "stdout",
     "output_type": "stream",
     "text": [
      "Scan Results: [{'addr': '80:6F:B0:EE:9C:67', 'addrType': 0, 'rssi': -56, 'advSID': 255, 'periodicAdvInt': 0}, {'addr': 'F8:8A:5E:2D:89:EA', 'addrType': 0, 'rssi': -96, 'advSID': 1, 'periodicAdvInt': 240}, {'addr': 'F8:8A:5E:2D:89:EA', 'addrType': 0, 'rssi': -96, 'advSID': 255, 'periodicAdvInt': 0}, {'addr': '80:6F:B0:EE:9C:67', 'addrType': 0, 'rssi': -66, 'advSID': 1, 'periodicAdvInt': 240}]\n",
      "Try to connect to : F8:8A:5E:2D:89:EA\n",
      "Plane Angle: 98\n",
      "Connected to : F8:8A:5E:2D:89:EA with connection handle 0\n",
      "Try to connect to : 80:6F:B0:EE:9C:67\n",
      "=== ERROR: No one of the nodes identified as RTLS MASTER ===\n",
      "Try to stop AOA result parsing thread\n",
      "AOA Stopped\n",
      "Done\n",
      "{}\n",
      "Connected to : 80:6F:B0:EE:9C:67 with connection handle 1\n",
      "AOA Params Set for Connection Handle: 0\n",
      "AOA Params Set for Connection Handle: 1\n",
      "AOA Callback Set for All Connection Handlers\n",
      "AOA Started with Connection Handle: 0\n",
      "AOA Started with Connection Handle: 1\n",
      "Going to sleep for 10 sec\n"
     ]
    },
    {
     "name": "stderr",
     "output_type": "stream",
     "text": [
      "10.19.190.195 - - [18/Mar/2023 12:18:13] \"GET /send/98 HTTP/1.1\" 200 -\n"
     ]
    },
    {
     "name": "stdout",
     "output_type": "stream",
     "text": [
      "Try to stop AOA result parsing threadSTOP Command Received\n",
      "\n",
      "AOA Stopped\n",
      "Master Disconnected\n",
      "Done\n",
      "{'F8:8A:5E:2D:89:EA': [5, 5, 4, 4, 9, 14, 14, 12, 11, 12, 6, 6, 3, 6, 4, 6, 5, 5, 5, 5, 4, 5, 6, 5, 10, 7, 10], '80:6F:B0:EE:9C:67': [57, 58, 59, 58, 58, 57, 56, 55, 57, 56, 57, 57, 55, 56, 56, 57, 57, 57, 57, 56, 57, 56, 57, 59]}\n"
     ]
    },
    {
     "name": "stderr",
     "output_type": "stream",
     "text": [
      "10.19.190.195 - - [18/Mar/2023 12:18:28] \"GET /send/98 HTTP/1.1\" 200 -\n",
      "f:\\intern_VisBLE\\VisBLE_INTERN\\AoA Point Cloud\\rtls_slave.py:254: RuntimeWarning: invalid value encountered in arccos\n",
      "  azimuth1 = np.arccos(cosAOAangle1/sinelvation1)\n",
      "10.19.190.195 - - [18/Mar/2023 12:18:33] \"GET /calculate/ HTTP/1.1\" 200 -\n"
     ]
    },
    {
     "name": "stdout",
     "output_type": "stream",
     "text": [
      "Before Turning：{'80:6F:B0:EE:9C:67': [21, 32, 35, 28, 29, 31, 28, 22, 19, 27, 25, 21, 28, 41, 38, 35, 37, 43, 45, 43, 25, 34, 31, 29], 'F8:8A:5E:2D:89:EA': [-4, -7, -9, -10, -12, -10, -12, -12, -12, -11, -10, -12, -13, -12, -11, -13, -4, -4, -1, -3]}\n",
      "After Turning： {'F8:8A:5E:2D:89:EA': [5, 5, 4, 4, 9, 14, 14, 12, 11, 12, 6, 6, 3, 6, 4, 6, 5, 5, 5, 5, 4, 5, 6, 5, 10, 7, 10], '80:6F:B0:EE:9C:67': [57, 58, 59, 58, 58, 57, 56, 55, 57, 56, 57, 57, 55, 56, 56, 57, 57, 57, 57, 56, 57, 56, 57, 59]}\n",
      "Rotation Angle： [122, 98]\n"
     ]
    }
   ],
   "source": [
    "app.run(host='0.0.0.0',port = 5000, debug=False) "
   ]
  }
 ],
 "metadata": {
  "kernelspec": {
   "display_name": "rtls_AoA",
   "language": "python",
   "name": "python3"
  },
  "language_info": {
   "codemirror_mode": {
    "name": "ipython",
    "version": 3
   },
   "file_extension": ".py",
   "mimetype": "text/x-python",
   "name": "python",
   "nbconvert_exporter": "python",
   "pygments_lexer": "ipython3",
   "version": "3.8.8"
  },
  "orig_nbformat": 4,
  "vscode": {
   "interpreter": {
    "hash": "9dbae62cb076e09f7a0c782a3ba615695975d66d2b4e7855eb79efabda661339"
   }
  }
 },
 "nbformat": 4,
 "nbformat_minor": 2
}
