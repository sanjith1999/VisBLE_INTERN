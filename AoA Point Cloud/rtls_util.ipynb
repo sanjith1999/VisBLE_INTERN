{
 "cells": [
  {
   "attachments": {},
   "cell_type": "markdown",
   "metadata": {},
   "source": [
    "### SEVER DEFINITIONS\n"
   ]
  },
  {
   "cell_type": "code",
   "execution_count": 13,
   "metadata": {},
   "outputs": [],
   "source": [
    "# Necessary Imports\n",
    "from flask import Flask, jsonify\n",
    "from werkzeug.routing import IntegerConverter\n",
    "from _csv import Dialect as _Dialect\n",
    "import csv\n",
    "import copy\n",
    "import os\n",
    "from rtls_slave import aoa_main, pixel_calculate\n",
    "\n",
    "\n",
    "# Handle Negative Values\n",
    "class SignedIntConverter(IntegerConverter):\n",
    "    regex = r'-?\\d+'\n",
    "app = Flask(__name__)\n",
    "app.url_map.converters['signed_int'] = SignedIntConverter\n",
    "#Store input values: AoA and Horizontal Angle\n",
    "\n",
    "aoabefore = {}\n",
    "aoa= {}\n",
    "lev = []\n",
    "\n",
    "@app.route('/')\n",
    "def home():\n",
    "    return \"This is the HomePage\"\n",
    "\n",
    "#Routing Settings\n",
    "@app.route('/send/<signed_int:horiz>', methods=['GET'])\n",
    "def get_angle(horiz):\n",
    "    global aoa\n",
    "    global aoabefore\n",
    "    lev.append(horiz)\n",
    "    print(\"Plane Angle: \" + str(horiz))\n",
    "    aoabefore = copy.deepcopy(aoa)\n",
    "    aoa = aoa_main()\n",
    "        \n",
    "    return jsonify({'state': 'success'})\n",
    "\n",
    "@app.route('/calculate/', methods=['GET'])\n",
    "def calculate():\n",
    "    print(\"Before Turning：\"+str(aoabefore)+'\\n'+\"After Turning： \" + str(aoa) +'\\n'+\"Rotation Angle： \"+ str(lev))\n",
    "    #aoa_image()\n",
    "    u = []\n",
    "    v = []\n",
    "\n",
    "    set_aoa = set(aoa)\n",
    "    set_aoabefore = set(aoabefore)\n",
    "    for slave in set_aoa.intersection(set_aoabefore):\n",
    "        minnumber = min(len(aoabefore[slave]), len(aoa[slave]))\n",
    "        f = open(f\"./aoa_results/{slave.replace(':','_')}_aoa_data_before_calibration.csv\",'a',newline=\"\")\n",
    "        f.truncate()\n",
    "        writer = csv.writer(f)\n",
    "        \n",
    "\n",
    "        for i in range(minnumber):\n",
    "            for j in range(minnumber):\n",
    "                (temp1, temp2) = pixel_calculate(lev[-2] - lev[-1], aoabefore[slave][i], aoa[slave][j])\n",
    "\n",
    "                if (temp1 != 1):\n",
    "                    u.append(temp1)\n",
    "                    v.append(temp2)\n",
    "                    tupx = (temp1,temp2)\n",
    "                    writer.writerow(tupx)\n",
    "        \n",
    "        f.close()\n",
    "\n",
    "    \n",
    "    return jsonify({'state': 'success'})"
   ]
  },
  {
   "attachments": {},
   "cell_type": "markdown",
   "metadata": {},
   "source": [
    "### RUNNING THE SEVER"
   ]
  },
  {
   "cell_type": "code",
   "execution_count": 14,
   "metadata": {},
   "outputs": [
    {
     "name": "stdout",
     "output_type": "stream",
     "text": [
      " * Serving Flask app '__main__' (lazy loading)\n",
      " * Environment: production\n",
      "\u001b[31m   WARNING: This is a development server. Do not use it in a production deployment.\u001b[0m\n",
      "\u001b[2m   Use a production WSGI server instead.\u001b[0m\n",
      " * Debug mode: off\n"
     ]
    },
    {
     "name": "stderr",
     "output_type": "stream",
     "text": [
      "WARNING: This is a development server. Do not use it in a production deployment. Use a production WSGI server instead.\n",
      " * Running on all addresses (0.0.0.0)\n",
      " * Running on http://127.0.0.1:5000\n",
      " * Running on http://10.19.217.212:5000\n",
      "Press CTRL+C to quit\n"
     ]
    },
    {
     "name": "stdout",
     "output_type": "stream",
     "text": [
      "Plane Angle: 124\n",
      "Master : <RTLSNode(CC26x2 Master, started daemon 21524)> \n",
      "Passives : [] \n",
      "All : [<RTLSNode(CC26x2 Master, started daemon 21524)>]\n",
      "Devices Reset\n",
      "Start scan for 5 sec\n",
      "Scan Results: [{'addr': 'F8:8A:5E:2D:89:EA', 'addrType': 0, 'rssi': -94, 'advSID': 255, 'periodicAdvInt': 0}, {'addr': 'F8:8A:5E:2D:89:EA', 'addrType': 0, 'rssi': -91, 'advSID': 1, 'periodicAdvInt': 240}]\n",
      "Try to connect to : F8:8A:5E:2D:89:EA\n",
      "Connected to : F8:8A:5E:2D:89:EA with connection handle 0\n",
      "AOA Params Set for Connection Handle: 0\n",
      "AOA Callback Set for All Connection Handlers\n",
      "AOA Started with Connection Handle: 0\n",
      "Going to sleep for 10 sec\n",
      "Try to stop AOA result parsing threadSTOP Command Received\n",
      "\n",
      "AOA Stopped\n",
      "Master Disconnected\n"
     ]
    },
    {
     "name": "stderr",
     "output_type": "stream",
     "text": [
      "10.19.190.195 - - [18/Mar/2023 11:49:56] \"GET /send/124 HTTP/1.1\" 200 -\n"
     ]
    },
    {
     "name": "stdout",
     "output_type": "stream",
     "text": [
      "Done\n",
      "{'F8:8A:5E:2D:89:EA': [-3, -13, -20, -19, -20, -15, -18, -17, -2, -2, 3, 0, 0, -18, -19, -14, -16, -10, -8, -5, -6, -16, -18, -23]}\n",
      "Plane Angle: 124\n",
      "Master : <RTLSNode(CC26x2 Master, started daemon 9752)> \n",
      "Passives : [] \n",
      "All : [<RTLSNode(CC26x2 Master, started daemon 9752)>]\n",
      "Devices Reset\n",
      "Start scan for 5 sec\n",
      "Scan Results: [{'addr': 'F8:8A:5E:2D:89:EA', 'addrType': 0, 'rssi': -95, 'advSID': 1, 'periodicAdvInt': 240}, {'addr': '80:6F:B0:EE:9C:67', 'addrType': 0, 'rssi': -59, 'advSID': 255, 'periodicAdvInt': 0}, {'addr': 'F8:8A:5E:2D:89:EA', 'addrType': 0, 'rssi': -96, 'advSID': 255, 'periodicAdvInt': 0}]\n",
      "Try to connect to : F8:8A:5E:2D:89:EA\n",
      "Connected to : F8:8A:5E:2D:89:EA with connection handle 0\n",
      "AOA Params Set for Connection Handle: 0\n",
      "AOA Callback Set for All Connection Handlers\n",
      "AOA Started with Connection Handle: 0\n",
      "Going to sleep for 10 sec\n",
      "Try to stop AOA result parsing threadSTOP Command Received\n",
      "\n",
      "AOA Stopped\n",
      "Master Disconnected\n"
     ]
    },
    {
     "name": "stderr",
     "output_type": "stream",
     "text": [
      "10.19.190.195 - - [18/Mar/2023 11:51:01] \"GET /send/124 HTTP/1.1\" 200 -\n"
     ]
    },
    {
     "name": "stdout",
     "output_type": "stream",
     "text": [
      "Done\n",
      "{'F8:8A:5E:2D:89:EA': [6, 7, -2, -1, 2, -4, -4, 2, 3, 1, -7, -4, -1, -1, -6, 3, -1, 2, 7, -4, 0]}\n"
     ]
    },
    {
     "name": "stderr",
     "output_type": "stream",
     "text": [
      "f:\\intern_VisBLE\\VisBLE_INTERN\\AoA Point Cloud\\rtls_slave.py:246: RuntimeWarning: divide by zero encountered in double_scalars\n",
      "  elvation1 = np.arccos((cosAOAangle2-coslevelangle*cosAOAangle1)/sinlevelangle)\n",
      "f:\\intern_VisBLE\\VisBLE_INTERN\\AoA Point Cloud\\rtls_slave.py:246: RuntimeWarning: invalid value encountered in arccos\n",
      "  elvation1 = np.arccos((cosAOAangle2-coslevelangle*cosAOAangle1)/sinlevelangle)\n",
      "f:\\intern_VisBLE\\VisBLE_INTERN\\AoA Point Cloud\\rtls_slave.py:246: RuntimeWarning: invalid value encountered in double_scalars\n",
      "  elvation1 = np.arccos((cosAOAangle2-coslevelangle*cosAOAangle1)/sinlevelangle)\n",
      "10.19.190.195 - - [18/Mar/2023 11:51:11] \"GET /calculate/ HTTP/1.1\" 200 -\n"
     ]
    },
    {
     "name": "stdout",
     "output_type": "stream",
     "text": [
      "Before Turning：{'F8:8A:5E:2D:89:EA': [-3, -13, -20, -19, -20, -15, -18, -17, -2, -2, 3, 0, 0, -18, -19, -14, -16, -10, -8, -5, -6, -16, -18, -23]}\n",
      "After Turning： {'F8:8A:5E:2D:89:EA': [6, 7, -2, -1, 2, -4, -4, 2, 3, 1, -7, -4, -1, -1, -6, 3, -1, 2, 7, -4, 0]}\n",
      "Rotation Angle： [124, 124]\n",
      "Plane Angle: 124\n",
      "Master : <RTLSNode(CC26x2 Master, started daemon 20852)> \n",
      "Passives : [] \n",
      "All : [<RTLSNode(CC26x2 Master, started daemon 20852)>]\n",
      "Devices Reset\n",
      "Start scan for 5 sec\n",
      "Scan Results: [{'addr': '80:6F:B0:EE:9C:67', 'addrType': 0, 'rssi': -45, 'advSID': 255, 'periodicAdvInt': 0}, {'addr': 'F8:8A:5E:2D:89:EA', 'addrType': 0, 'rssi': -90, 'advSID': 1, 'periodicAdvInt': 240}, {'addr': '80:6F:B0:EE:9C:67', 'addrType': 0, 'rssi': -54, 'advSID': 1, 'periodicAdvInt': 240}]\n",
      "Try to connect to : F8:8A:5E:2D:89:EA\n",
      "Connected to : F8:8A:5E:2D:89:EA with connection handle 0\n",
      "Try to connect to : 80:6F:B0:EE:9C:67\n",
      "Connected to : 80:6F:B0:EE:9C:67 with connection handle 1\n",
      "AOA Params Set for Connection Handle: 0\n",
      "AOA Params Set for Connection Handle: 1\n",
      "AOA Callback Set for All Connection Handlers\n",
      "AOA Started with Connection Handle: 0\n",
      "AOA Started with Connection Handle: 1\n",
      "Going to sleep for 10 sec\n",
      "Try to stop AOA result parsing threadSTOP Command Received\n",
      "\n",
      "AOA Stopped\n"
     ]
    },
    {
     "name": "stderr",
     "output_type": "stream",
     "text": [
      "10.19.190.195 - - [18/Mar/2023 11:52:02] \"GET /send/124 HTTP/1.1\" 200 -\n"
     ]
    },
    {
     "name": "stdout",
     "output_type": "stream",
     "text": [
      "Master Disconnected\n",
      "Done\n",
      "{'F8:8A:5E:2D:89:EA': [-17, -4, 2, -5, -7, 3, -6, -18, -7, -8, -7, -10, -1, -6, -4, 3, -6, -14, -10, -24, -19, -5], '80:6F:B0:EE:9C:67': [2, 1, 3, 2, 2, 3, 4, 3, 2, 4, 4, 3, 3, 5, 5, 4, 6, 6, 6, 5, 5, 6, 5, 5, 5, 5]}\n",
      "Plane Angle: 138\n",
      "Master : <RTLSNode(CC26x2 Master, started daemon 23384)> \n",
      "Passives : [] \n",
      "All : [<RTLSNode(CC26x2 Master, started daemon 23384)>]\n",
      "Devices Reset\n",
      "Start scan for 5 sec\n",
      "Scan Results: [{'addr': 'F8:8A:5E:2D:89:EA', 'addrType': 0, 'rssi': -94, 'advSID': 255, 'periodicAdvInt': 0}, {'addr': '80:6F:B0:EE:9C:67', 'addrType': 0, 'rssi': -59, 'advSID': 255, 'periodicAdvInt': 0}, {'addr': '80:6F:B0:EE:9C:67', 'addrType': 0, 'rssi': -68, 'advSID': 1, 'periodicAdvInt': 240}, {'addr': 'F8:8A:5E:2D:89:EA', 'addrType': 0, 'rssi': -95, 'advSID': 1, 'periodicAdvInt': 240}]\n",
      "Try to connect to : 80:6F:B0:EE:9C:67\n",
      "Connected to : 80:6F:B0:EE:9C:67 with connection handle 0\n",
      "Try to connect to : F8:8A:5E:2D:89:EA\n",
      "Connected to : F8:8A:5E:2D:89:EA with connection handle 1\n",
      "AOA Params Set for Connection Handle: 0\n",
      "AOA Params Set for Connection Handle: 1\n",
      "AOA Callback Set for All Connection Handlers\n",
      "AOA Started with Connection Handle: 0\n",
      "AOA Started with Connection Handle: 1\n",
      "Going to sleep for 10 sec\n",
      "Try to stop AOA result parsing threadSTOP Command Received\n",
      "\n",
      "AOA Stopped\n",
      "Master Disconnected\n"
     ]
    },
    {
     "name": "stderr",
     "output_type": "stream",
     "text": [
      "10.19.190.195 - - [18/Mar/2023 11:52:51] \"GET /send/138 HTTP/1.1\" 200 -\n"
     ]
    },
    {
     "name": "stdout",
     "output_type": "stream",
     "text": [
      "Done\n",
      "{'80:6F:B0:EE:9C:67': [-15, -12, -10, -9, -10, -10, -10, -11, -12, -14, -15, -13, -13, -14, -14, -13, -14, -11, -11, -10, -12, -10, -10, -12, -13], 'F8:8A:5E:2D:89:EA': [-14, -6, -9, -8, -11, -18, -19, -13, -13, -9, -6, -5, -9, -8, -15, -17, -17, -18, -16, -17]}\n"
     ]
    },
    {
     "name": "stderr",
     "output_type": "stream",
     "text": [
      "f:\\intern_VisBLE\\VisBLE_INTERN\\AoA Point Cloud\\rtls_slave.py:249: RuntimeWarning: invalid value encountered in arccos\n",
      "  azimuth1 = np.arccos(cosAOAangle1/sinelvation1)\n",
      "10.19.190.195 - - [18/Mar/2023 11:53:02] \"GET /calculate/ HTTP/1.1\" 200 -\n"
     ]
    },
    {
     "name": "stdout",
     "output_type": "stream",
     "text": [
      "Before Turning：{'F8:8A:5E:2D:89:EA': [-17, -4, 2, -5, -7, 3, -6, -18, -7, -8, -7, -10, -1, -6, -4, 3, -6, -14, -10, -24, -19, -5], '80:6F:B0:EE:9C:67': [2, 1, 3, 2, 2, 3, 4, 3, 2, 4, 4, 3, 3, 5, 5, 4, 6, 6, 6, 5, 5, 6, 5, 5, 5, 5]}\n",
      "After Turning： {'80:6F:B0:EE:9C:67': [-15, -12, -10, -9, -10, -10, -10, -11, -12, -14, -15, -13, -13, -14, -14, -13, -14, -11, -11, -10, -12, -10, -10, -12, -13], 'F8:8A:5E:2D:89:EA': [-14, -6, -9, -8, -11, -18, -19, -13, -13, -9, -6, -5, -9, -8, -15, -17, -17, -18, -16, -17]}\n",
      "Rotation Angle： [124, 124, 124, 138]\n",
      "Plane Angle: 138\n",
      "Master : <RTLSNode(CC26x2 Master, started daemon 20024)> \n",
      "Passives : [] \n",
      "All : [<RTLSNode(CC26x2 Master, started daemon 20024)>]\n",
      "Devices Reset\n",
      "Start scan for 5 sec\n",
      "Scan Results: [{'addr': '80:6F:B0:EE:9C:67', 'addrType': 0, 'rssi': -66, 'advSID': 1, 'periodicAdvInt': 240}, {'addr': 'F8:8A:5E:2D:89:EA', 'addrType': 0, 'rssi': -96, 'advSID': 1, 'periodicAdvInt': 240}, {'addr': '80:6F:B0:EE:9C:67', 'addrType': 0, 'rssi': -63, 'advSID': 255, 'periodicAdvInt': 0}]\n",
      "Try to connect to : 80:6F:B0:EE:9C:67\n",
      "Connected to : 80:6F:B0:EE:9C:67 with connection handle 0\n",
      "Try to connect to : F8:8A:5E:2D:89:EA\n",
      "Connected to : F8:8A:5E:2D:89:EA with connection handle 1\n",
      "AOA Params Set for Connection Handle: 0\n",
      "AOA Params Set for Connection Handle: 1\n",
      "AOA Callback Set for All Connection Handlers\n",
      "AOA Started with Connection Handle: 0\n",
      "AOA Started with Connection Handle: 1\n",
      "Going to sleep for 10 sec\n"
     ]
    },
    {
     "name": "stderr",
     "output_type": "stream",
     "text": [
      "f:\\intern_VisBLE\\VisBLE_INTERN\\AoA Point Cloud\\rtls_slave.py:246: RuntimeWarning: invalid value encountered in double_scalars\n",
      "  elvation1 = np.arccos((cosAOAangle2-coslevelangle*cosAOAangle1)/sinlevelangle)\n",
      "f:\\intern_VisBLE\\VisBLE_INTERN\\AoA Point Cloud\\rtls_slave.py:246: RuntimeWarning: divide by zero encountered in double_scalars\n",
      "  elvation1 = np.arccos((cosAOAangle2-coslevelangle*cosAOAangle1)/sinlevelangle)\n",
      "f:\\intern_VisBLE\\VisBLE_INTERN\\AoA Point Cloud\\rtls_slave.py:246: RuntimeWarning: invalid value encountered in arccos\n",
      "  elvation1 = np.arccos((cosAOAangle2-coslevelangle*cosAOAangle1)/sinlevelangle)\n",
      "10.19.190.195 - - [18/Mar/2023 11:53:54] \"GET /calculate/ HTTP/1.1\" 200 -\n"
     ]
    },
    {
     "name": "stdout",
     "output_type": "stream",
     "text": [
      "Before Turning：{'80:6F:B0:EE:9C:67': [-15, -12, -10, -9, -10, -10, -10, -11, -12, -14, -15, -13, -13, -14, -14, -13, -14, -11, -11, -10, -12, -10, -10, -12, -13], 'F8:8A:5E:2D:89:EA': [-14, -6, -9, -8, -11, -18, -19, -13, -13, -9, -6, -5, -9, -8, -15, -17, -17, -18, -16, -17]}\n",
      "After Turning： {'80:6F:B0:EE:9C:67': [-15, -12, -10, -9, -10, -10, -10, -11, -12, -14, -15, -13, -13, -14, -14, -13, -14, -11, -11, -10, -12, -10, -10, -12, -13], 'F8:8A:5E:2D:89:EA': [-14, -6, -9, -8, -11, -18, -19, -13, -13, -9, -6, -5, -9, -8, -15, -17, -17, -18, -16, -17]}\n",
      "Rotation Angle： [124, 124, 124, 138, 138]\n",
      "Try to stop AOA result parsing threadSTOP Command Received\n",
      "\n",
      "AOA Stopped\n",
      "Master Disconnected\n"
     ]
    },
    {
     "name": "stderr",
     "output_type": "stream",
     "text": [
      "10.19.190.195 - - [18/Mar/2023 11:54:04] \"GET /send/138 HTTP/1.1\" 200 -\n"
     ]
    },
    {
     "name": "stdout",
     "output_type": "stream",
     "text": [
      "Done\n",
      "{'80:6F:B0:EE:9C:67': [-10, -9, -10, -9, -10, -11, -11, -12, -9, -11, -9, -10, -8, -9, -11, -9, -12, -11, -12, -12, -10, -12, -10, -9], 'F8:8A:5E:2D:89:EA': [-16, -9, -14, -13, -15, -1, 4, 5, 3, -3, -12, -10, -10, -10, -8, -9, -1, -4, -2, -4, -3, -4]}\n"
     ]
    },
    {
     "name": "stderr",
     "output_type": "stream",
     "text": [
      "f:\\intern_VisBLE\\VisBLE_INTERN\\AoA Point Cloud\\rtls_slave.py:246: RuntimeWarning: divide by zero encountered in double_scalars\n",
      "  elvation1 = np.arccos((cosAOAangle2-coslevelangle*cosAOAangle1)/sinlevelangle)\n",
      "f:\\intern_VisBLE\\VisBLE_INTERN\\AoA Point Cloud\\rtls_slave.py:246: RuntimeWarning: invalid value encountered in arccos\n",
      "  elvation1 = np.arccos((cosAOAangle2-coslevelangle*cosAOAangle1)/sinlevelangle)\n",
      "f:\\intern_VisBLE\\VisBLE_INTERN\\AoA Point Cloud\\rtls_slave.py:246: RuntimeWarning: invalid value encountered in double_scalars\n",
      "  elvation1 = np.arccos((cosAOAangle2-coslevelangle*cosAOAangle1)/sinlevelangle)\n",
      "10.19.190.195 - - [18/Mar/2023 11:54:10] \"GET /calculate/ HTTP/1.1\" 200 -\n"
     ]
    },
    {
     "name": "stdout",
     "output_type": "stream",
     "text": [
      "Before Turning：{'80:6F:B0:EE:9C:67': [-15, -12, -10, -9, -10, -10, -10, -11, -12, -14, -15, -13, -13, -14, -14, -13, -14, -11, -11, -10, -12, -10, -10, -12, -13], 'F8:8A:5E:2D:89:EA': [-14, -6, -9, -8, -11, -18, -19, -13, -13, -9, -6, -5, -9, -8, -15, -17, -17, -18, -16, -17]}\n",
      "After Turning： {'80:6F:B0:EE:9C:67': [-10, -9, -10, -9, -10, -11, -11, -12, -9, -11, -9, -10, -8, -9, -11, -9, -12, -11, -12, -12, -10, -12, -10, -9], 'F8:8A:5E:2D:89:EA': [-16, -9, -14, -13, -15, -1, 4, 5, 3, -3, -12, -10, -10, -10, -8, -9, -1, -4, -2, -4, -3, -4]}\n",
      "Rotation Angle： [124, 124, 124, 138, 138]\n"
     ]
    }
   ],
   "source": [
    "app.run(host='0.0.0.0',port = 5000, debug=False) "
   ]
  }
 ],
 "metadata": {
  "kernelspec": {
   "display_name": "rtls_AoA",
   "language": "python",
   "name": "python3"
  },
  "language_info": {
   "codemirror_mode": {
    "name": "ipython",
    "version": 3
   },
   "file_extension": ".py",
   "mimetype": "text/x-python",
   "name": "python",
   "nbconvert_exporter": "python",
   "pygments_lexer": "ipython3",
   "version": "3.8.8"
  },
  "orig_nbformat": 4,
  "vscode": {
   "interpreter": {
    "hash": "9dbae62cb076e09f7a0c782a3ba615695975d66d2b4e7855eb79efabda661339"
   }
  }
 },
 "nbformat": 4,
 "nbformat_minor": 2
}
