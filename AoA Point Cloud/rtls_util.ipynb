{
 "cells": [
  {
   "attachments": {},
   "cell_type": "markdown",
   "metadata": {},
   "source": [
    "###  DEFINITIONS\n"
   ]
  },
  {
   "cell_type": "code",
   "execution_count": 30,
   "metadata": {},
   "outputs": [],
   "source": [
    "# Necessary Imports\n",
    "from flask import Flask, jsonify\n",
    "from werkzeug.routing import IntegerConverter\n",
    "from _csv import Dialect as _Dialect\n",
    "import csv\n",
    "import copy\n",
    "import os\n",
    "from rtls_slave import aoa_main, pixel_calculate\n",
    "import json\n",
    "\n",
    "# PARAMETER FOR COMPRESSING THE PIXEL POINTS\n",
    "BETA = 1\n",
    "BIAS = 0\n",
    "\n",
    "# Handle Negative Values\n",
    "class SignedIntConverter(IntegerConverter):\n",
    "    regex = r'-?\\d+'\n",
    "app = Flask(__name__)\n",
    "app.url_map.converters['signed_int'] = SignedIntConverter\n",
    "#Store input values: AoA and Horizontal Angle\n",
    "\n",
    "aoabefore = {}\n",
    "aoa= {}\n",
    "lev = []\n",
    "\n",
    "@app.route('/')\n",
    "def home():\n",
    "    return \"This is the HomePage\"\n",
    "\n",
    "#Routing Settings\n",
    "@app.route('/send/<signed_int:horiz>', methods=['GET'])\n",
    "def get_angle(horiz):\n",
    "    global aoa\n",
    "    global aoabefore\n",
    "    print(\"Plane Angle: \" + str(horiz))\n",
    "    aoa_result = aoa_main()\n",
    "    print(aoa_result)\n",
    "    input_letter = input(\"If you want to add this data to list type 'y', otherwise press Enter\")\n",
    "    if input_letter!='y':\n",
    "        return jsonify({'state':'Try Again'})\n",
    "    lev.append(horiz)\n",
    "    aoabefore = copy.deepcopy(aoa)\n",
    "    aoa = aoa_result\n",
    "\n",
    "    with open(f\"./aoa_results/two_down_indoor_{horiz}.json\",'w') as f:\n",
    "        json.dump(aoa_result, f)\n",
    "        \n",
    "    return jsonify({'state': 'success'})\n",
    "\n",
    "@app.route('/calculate/', methods=['GET'])\n",
    "def calculate():\n",
    "    print(\"Before Turning：\"+str(aoabefore)+'\\n'+\"After Turning： \" + str(aoa) +'\\n'+\"Rotation Angle： \"+ str(lev))\n",
    "    #aoa_image()\n",
    "    u = []\n",
    "    v = []\n",
    "\n",
    "    set_aoa = set(aoa)\n",
    "    set_aoabefore = set(aoabefore)\n",
    "\n",
    "    for slave in set_aoa.intersection(set_aoabefore):\n",
    "        minnumber = min(len(aoabefore[slave]), len(aoa[slave]))\n",
    "        f = open(f\"./pixels/{slave.replace(':','_')}_before.csv\",'a',newline=\"\")\n",
    "        f.truncate()\n",
    "        writer = csv.writer(f)\n",
    "        \n",
    "        for i in range(2,minnumber-2):\n",
    "            for j in range(2,minnumber-2):\n",
    "                (temp1, temp2) = pixel_calculate(lev[-2] - lev[-1], aoabefore[slave][i], aoa[slave][j],beta = BETA,aoa_bias=BIAS)\n",
    "\n",
    "                if (temp1 != 1):\n",
    "                    u.append(temp1)\n",
    "                    v.append(temp2)\n",
    "                    tupx = (temp1,temp2)\n",
    "                    writer.writerow(tupx)\n",
    "                \n",
    "        \n",
    "        f.close()\n",
    "\n",
    "    \n",
    "    return jsonify({'state': 'success'})\n",
    "\n",
    "def post_calculation(level1, level2):\n",
    "\n",
    "    #  AoA BEFORE\n",
    "    with open(f'./aoa_results/aoa_{level1}.json', 'r') as f:\n",
    "        aoabefore = json.load(f)\n",
    "    \n",
    "    # AoA\n",
    "    with open(f'./aoa_results/aoa_{level2}.json','r') as f:\n",
    "        aoa = json.load(f)\n",
    "\n",
    "    lev = [level1, level2]\n",
    "    \n",
    "    print(\"Before Turning：\"+str(aoabefore)+'\\n'+\"After Turning： \" + str(aoa) +'\\n'+\"Rotation Angle： \"+ str(lev))\n",
    "    #aoa_image()\n",
    "    u = []\n",
    "    v = []\n",
    "\n",
    "    set_aoa = set(aoa)\n",
    "    set_aoabefore = set(aoabefore)\n",
    "\n",
    "    for slave in set_aoa.intersection(set_aoabefore):\n",
    "        minnumber = min(len(aoabefore[slave]), len(aoa[slave]))\n",
    "        f = open(f\"./pixels/{slave.replace(':','_')}_before.csv\",'a',newline=\"\")\n",
    "        f.truncate()\n",
    "        writer = csv.writer(f)\n",
    "        \n",
    "        for i in range(2,minnumber-2):\n",
    "            for j in range(2,minnumber-2):\n",
    "                (temp1, temp2) = pixel_calculate(lev[-2] - lev[-1], aoabefore[slave][i], aoa[slave][j],beta = BETA,aoa_bias=BIAS)\n",
    "\n",
    "                if (temp1 != 1):\n",
    "                    u.append(temp1)\n",
    "                    v.append(temp2)\n",
    "                    tupx = (temp1,temp2)\n",
    "                    writer.writerow(tupx)\n",
    "                \n",
    "        \n",
    "        f.close()"
   ]
  },
  {
   "attachments": {},
   "cell_type": "markdown",
   "metadata": {},
   "source": [
    "### RUNNING THE SEVER"
   ]
  },
  {
   "cell_type": "code",
   "execution_count": 31,
   "metadata": {},
   "outputs": [
    {
     "name": "stdout",
     "output_type": "stream",
     "text": [
      " * Serving Flask app '__main__' (lazy loading)\n",
      " * Environment: production\n",
      "\u001b[31m   WARNING: This is a development server. Do not use it in a production deployment.\u001b[0m\n",
      "\u001b[2m   Use a production WSGI server instead.\u001b[0m\n",
      " * Debug mode: off\n"
     ]
    },
    {
     "name": "stderr",
     "output_type": "stream",
     "text": [
      "WARNING: This is a development server. Do not use it in a production deployment. Use a production WSGI server instead.\n",
      " * Running on all addresses (0.0.0.0)\n",
      " * Running on http://127.0.0.1:5000\n",
      " * Running on http://10.19.217.212:5000\n",
      "Press CTRL+C to quit\n"
     ]
    },
    {
     "name": "stdout",
     "output_type": "stream",
     "text": [
      "Plane Angle: 65\n",
      "Master : <RTLSNode(CC26x2 Master, started daemon 21276)> \n",
      "Passives : [] \n",
      "All : [<RTLSNode(CC26x2 Master, started daemon 21276)>]\n",
      "Devices Reset\n",
      "Start scan for 5 sec\n",
      "Scan Results: [{'addr': '80:6F:B0:EE:9C:67', 'addrType': 0, 'rssi': -66, 'advSID': 255, 'periodicAdvInt': 0}, {'addr': '80:6F:B0:EE:AA:13', 'addrType': 0, 'rssi': -69, 'advSID': 1, 'periodicAdvInt': 240}, {'addr': '80:6F:B0:EE:AA:13', 'addrType': 0, 'rssi': -61, 'advSID': 255, 'periodicAdvInt': 0}]\n",
      "Try to connect to : 80:6F:B0:EE:AA:13\n",
      "Connected to : 80:6F:B0:EE:AA:13 with connection handle 0\n",
      "AOA Params Set for Connection Handle: 0\n",
      "AOA Callback Set for All Connection Handlers\n",
      "AOA Started with Connection Handle: 0\n",
      "Going to sleep for 10 sec\n",
      "Try to stop AOA result parsing threadSTOP Command Received\n",
      "\n",
      "AOA Stopped\n",
      "Master Disconnected\n",
      "Done\n",
      "{'80:6F:B0:EE:AA:13': [10, 13, 11, 10, 10, 13, 8, 9, 10, 9, 7, 7, 8, 7, 10, 10, 8, 11, 12, 12, 10, 12, 13, 10]}\n"
     ]
    },
    {
     "name": "stderr",
     "output_type": "stream",
     "text": [
      "10.19.190.195 - - [27/Mar/2023 19:08:37] \"GET /send/65 HTTP/1.1\" 200 -\n"
     ]
    },
    {
     "name": "stdout",
     "output_type": "stream",
     "text": [
      "Plane Angle: 65\n",
      "Master : <RTLSNode(CC26x2 Master, started daemon 15640)> \n",
      "Passives : [] \n",
      "All : [<RTLSNode(CC26x2 Master, started daemon 15640)>]\n",
      "Devices Reset\n",
      "Start scan for 5 sec\n",
      "Scan Results: [{'addr': '80:6F:B0:EE:AA:13', 'addrType': 0, 'rssi': -68, 'advSID': 255, 'periodicAdvInt': 0}, {'addr': '80:6F:B0:EE:9C:67', 'addrType': 0, 'rssi': -66, 'advSID': 255, 'periodicAdvInt': 0}, {'addr': '80:6F:B0:EE:9C:67', 'addrType': 0, 'rssi': -58, 'advSID': 1, 'periodicAdvInt': 240}]\n",
      "Try to connect to : 80:6F:B0:EE:9C:67\n",
      "Connected to : 80:6F:B0:EE:9C:67 with connection handle 0\n",
      "AOA Params Set for Connection Handle: 0\n",
      "AOA Callback Set for All Connection Handlers\n",
      "AOA Started with Connection Handle: 0\n",
      "Going to sleep for 10 sec\n",
      "Try to stop AOA result parsing threadSTOP Command Received\n",
      "\n",
      "AOA Stopped\n",
      "Master Disconnected\n",
      "Done\n",
      "{'80:6F:B0:EE:9C:67': [0, 3, -1, -4, -6, -6, -8, -8, -9, -12, -12, -8, -12, -5, -1, 8, 15, 16, 19, 15, 14, 12, 5]}\n"
     ]
    },
    {
     "name": "stderr",
     "output_type": "stream",
     "text": [
      "10.19.190.195 - - [27/Mar/2023 19:09:06] \"GET /send/65 HTTP/1.1\" 200 -\n"
     ]
    },
    {
     "name": "stdout",
     "output_type": "stream",
     "text": [
      "Plane Angle: 66\n",
      "Master : <RTLSNode(CC26x2 Master, started daemon 16892)> \n",
      "Passives : [] \n",
      "All : [<RTLSNode(CC26x2 Master, started daemon 16892)>]\n",
      "Devices Reset\n",
      "Start scan for 5 sec\n",
      "Scan Results: [{'addr': '80:6F:B0:EE:AA:13', 'addrType': 0, 'rssi': -66, 'advSID': 255, 'periodicAdvInt': 0}, {'addr': '80:6F:B0:EE:9C:67', 'addrType': 0, 'rssi': -63, 'advSID': 1, 'periodicAdvInt': 240}, {'addr': '80:6F:B0:EE:9C:67', 'addrType': 0, 'rssi': -65, 'advSID': 255, 'periodicAdvInt': 0}]\n",
      "Try to connect to : 80:6F:B0:EE:9C:67\n",
      "Connected to : 80:6F:B0:EE:9C:67 with connection handle 0\n",
      "AOA Params Set for Connection Handle: 0\n",
      "AOA Callback Set for All Connection Handlers\n",
      "AOA Started with Connection Handle: 0\n",
      "Going to sleep for 10 sec\n",
      "Try to stop AOA result parsing threadSTOP Command Received\n",
      "\n",
      "AOA Stopped\n",
      "Master Disconnected\n",
      "Done\n",
      "{'80:6F:B0:EE:9C:67': [-3, -4, -4, 0, 2, 1, 2, 5, 6, 3, 1, 4, 1, -1, 1, 2, 4, 2, 8, 6, 2, 3, 4, 0, -1]}\n",
      "Plane Angle: 66\n",
      "Master : <RTLSNode(CC26x2 Master, started daemon 5316)> \n",
      "Passives : [] \n",
      "All : [<RTLSNode(CC26x2 Master, started daemon 5316)>]\n",
      "Devices Reset\n",
      "Start scan for 5 sec\n"
     ]
    },
    {
     "name": "stderr",
     "output_type": "stream",
     "text": [
      "10.19.190.195 - - [27/Mar/2023 19:10:20] \"GET /send/66 HTTP/1.1\" 200 -\n"
     ]
    },
    {
     "name": "stdout",
     "output_type": "stream",
     "text": [
      "Scan Results: [{'addr': '80:6F:B0:EE:AA:13', 'addrType': 0, 'rssi': -70, 'advSID': 1, 'periodicAdvInt': 240}, {'addr': '80:6F:B0:EE:9C:67', 'addrType': 0, 'rssi': -68, 'advSID': 255, 'periodicAdvInt': 0}, {'addr': '80:6F:B0:EE:9C:67', 'addrType': 0, 'rssi': -63, 'advSID': 1, 'periodicAdvInt': 240}, {'addr': '80:6F:B0:EE:AA:13', 'addrType': 0, 'rssi': -58, 'advSID': 255, 'periodicAdvInt': 0}]\n",
      "Try to connect to : 80:6F:B0:EE:AA:13\n",
      "Connected to : 80:6F:B0:EE:AA:13 with connection handle 0\n",
      "Try to connect to : 80:6F:B0:EE:9C:67\n",
      "Connected to : 80:6F:B0:EE:9C:67 with connection handle 1\n",
      "AOA Params Set for Connection Handle: 0\n",
      "AOA Params Set for Connection Handle: 1\n",
      "AOA Callback Set for All Connection Handlers\n",
      "AOA Started with Connection Handle: 0\n",
      "AOA Started with Connection Handle: 1\n",
      "Going to sleep for 10 sec\n",
      "Try to stop AOA result parsing threadSTOP Command Received\n",
      "\n",
      "AOA Stopped\n",
      "Master Disconnected\n",
      "Done\n",
      "{'80:6F:B0:EE:AA:13': [18, 20, 19, 22, 23, 22, 22, 23, 22, 19, 19, 19, 21, 18, 20, 19, 19, 18, 19, 21, 19, 21, 20, 22, 20, 20, 20, 21], '80:6F:B0:EE:9C:67': [2, 2, 9, 10, 11, 8, 16, 15, 14, 13, 15, 11, 6, 8, 5, 0, 6, 5, 7, 4, 12, 10, 4, 8, 7]}\n"
     ]
    },
    {
     "name": "stderr",
     "output_type": "stream",
     "text": [
      "10.19.190.195 - - [27/Mar/2023 19:10:47] \"GET /send/66 HTTP/1.1\" 200 -\n"
     ]
    },
    {
     "name": "stdout",
     "output_type": "stream",
     "text": [
      "Plane Angle: 69\n",
      "Master : <RTLSNode(CC26x2 Master, started daemon 21176)> \n",
      "Passives : [] \n",
      "All : [<RTLSNode(CC26x2 Master, started daemon 21176)>]\n",
      "Devices Reset\n",
      "Start scan for 5 sec\n",
      "Scan Results: [{'addr': '80:6F:B0:EE:AA:13', 'addrType': 0, 'rssi': -67, 'advSID': 1, 'periodicAdvInt': 240}, {'addr': '80:6F:B0:EE:9C:67', 'addrType': 0, 'rssi': -63, 'advSID': 1, 'periodicAdvInt': 240}, {'addr': '80:6F:B0:EE:9C:67', 'addrType': 0, 'rssi': -59, 'advSID': 255, 'periodicAdvInt': 0}, {'addr': '80:6F:B0:EE:AA:13', 'addrType': 0, 'rssi': -59, 'advSID': 255, 'periodicAdvInt': 0}]\n",
      "Try to connect to : 80:6F:B0:EE:AA:13\n",
      "Connected to : 80:6F:B0:EE:AA:13 with connection handle 0\n",
      "Try to connect to : 80:6F:B0:EE:9C:67\n",
      "Connected to : 80:6F:B0:EE:9C:67 with connection handle 1\n",
      "AOA Params Set for Connection Handle: 0\n",
      "AOA Params Set for Connection Handle: 1\n",
      "AOA Callback Set for All Connection Handlers\n",
      "AOA Started with Connection Handle: 0\n",
      "AOA Started with Connection Handle: 1\n",
      "Going to sleep for 10 sec\n",
      "Try to stop AOA result parsing threadSTOP Command Received\n",
      "\n",
      "AOA Stopped\n",
      "Master Disconnected\n",
      "Done\n",
      "{'80:6F:B0:EE:AA:13': [15, 18, 18, 19, 17, 17, 17, 16, 16, 15, 18, 17, 15, 16, 16, 14, 16, 18, 17, 15, 15, 15, 15, 14, 16], '80:6F:B0:EE:9C:67': [2, 1, 7, 7, 7, 3, 10, 9, 7, 6, 8, 5, 1, 4, 3, 0, 4, 2, 1, -1, 4, 2, -2, 2, 2]}\n"
     ]
    },
    {
     "name": "stderr",
     "output_type": "stream",
     "text": [
      "10.19.190.195 - - [27/Mar/2023 19:11:37] \"GET /send/69 HTTP/1.1\" 200 -\n"
     ]
    },
    {
     "name": "stdout",
     "output_type": "stream",
     "text": [
      "Plane Angle: 71\n",
      "Master : <RTLSNode(CC26x2 Master, started daemon 5720)> \n",
      "Passives : [] \n",
      "All : [<RTLSNode(CC26x2 Master, started daemon 5720)>]\n",
      "Devices Reset\n",
      "Start scan for 5 sec\n",
      "Scan Results: [{'addr': '80:6F:B0:EE:AA:13', 'addrType': 0, 'rssi': -62, 'advSID': 255, 'periodicAdvInt': 0}, {'addr': '80:6F:B0:EE:9C:67', 'addrType': 0, 'rssi': -68, 'advSID': 1, 'periodicAdvInt': 240}, {'addr': '80:6F:B0:EE:9C:67', 'addrType': 0, 'rssi': -60, 'advSID': 255, 'periodicAdvInt': 0}]\n",
      "Try to connect to : 80:6F:B0:EE:9C:67\n",
      "Connected to : 80:6F:B0:EE:9C:67 with connection handle 0\n",
      "AOA Params Set for Connection Handle: 0\n",
      "AOA Callback Set for All Connection Handlers\n",
      "AOA Started with Connection Handle: 0\n",
      "Going to sleep for 10 sec\n",
      "Try to stop AOA result parsing threadSTOP Command Received\n",
      "\n",
      "AOA Stopped\n",
      "Master Disconnected\n",
      "Done\n",
      "{'80:6F:B0:EE:9C:67': [-4, -1, 0, -1, 3, 4, 0, 3, 0, 2, -2, -1, 3, -3, 3, 1, 0, 0, -3, -1, -4, -2, -2, 0, -2]}\n"
     ]
    },
    {
     "name": "stderr",
     "output_type": "stream",
     "text": [
      "10.19.190.195 - - [27/Mar/2023 19:13:10] \"GET /send/71 HTTP/1.1\" 200 -\n"
     ]
    },
    {
     "name": "stdout",
     "output_type": "stream",
     "text": [
      "Plane Angle: 71\n",
      "Master : <RTLSNode(CC26x2 Master, started daemon 18708)> \n",
      "Passives : [] \n",
      "All : [<RTLSNode(CC26x2 Master, started daemon 18708)>]\n",
      "Devices Reset\n",
      "Start scan for 5 sec\n",
      "Scan Results: [{'addr': '80:6F:B0:EE:9C:67', 'addrType': 0, 'rssi': -68, 'advSID': 1, 'periodicAdvInt': 240}, {'addr': '80:6F:B0:EE:AA:13', 'addrType': 0, 'rssi': -66, 'advSID': 1, 'periodicAdvInt': 240}, {'addr': '80:6F:B0:EE:AA:13', 'addrType': 0, 'rssi': -60, 'advSID': 255, 'periodicAdvInt': 0}, {'addr': '80:6F:B0:EE:9C:67', 'addrType': 0, 'rssi': -60, 'advSID': 255, 'periodicAdvInt': 0}]\n",
      "Try to connect to : 80:6F:B0:EE:9C:67\n",
      "Connected to : 80:6F:B0:EE:9C:67 with connection handle 0\n",
      "Try to connect to : 80:6F:B0:EE:AA:13\n",
      "Connected to : 80:6F:B0:EE:AA:13 with connection handle 1\n",
      "AOA Params Set for Connection Handle: 0\n",
      "AOA Params Set for Connection Handle: 1\n",
      "AOA Callback Set for All Connection Handlers\n",
      "AOA Started with Connection Handle: 0\n",
      "AOA Started with Connection Handle: 1\n",
      "Going to sleep for 10 sec\n",
      "Try to stop AOA result parsing threadSTOP Command Received\n",
      "\n",
      "AOA Stopped\n",
      "Master Disconnected\n",
      "Done\n",
      "{'80:6F:B0:EE:9C:67': [-2, 0, 0, -1, 0, 0, -3, 0, 0, -5, -3, -1, 0, 0, 1, 2, -2, -1, 2, -4, -3, 0, -3, -4], '80:6F:B0:EE:AA:13': [19, 17, 19, 20, 19, 19, 22, 21, 21, 21, 20, 22, 17, 20, 19, 15, 16, 16, 16, 16, 17, 17, 19, 18, 19, 18]}\n"
     ]
    },
    {
     "name": "stderr",
     "output_type": "stream",
     "text": [
      "10.19.190.195 - - [27/Mar/2023 19:13:45] \"GET /send/71 HTTP/1.1\" 200 -\n"
     ]
    },
    {
     "name": "stdout",
     "output_type": "stream",
     "text": [
      "Plane Angle: 73\n",
      "Master : <RTLSNode(CC26x2 Master, started daemon 15124)> \n",
      "Passives : [] \n",
      "All : [<RTLSNode(CC26x2 Master, started daemon 15124)>]\n",
      "Devices Reset\n",
      "Start scan for 5 sec\n",
      "Scan Results: [{'addr': '80:6F:B0:EE:9C:67', 'addrType': 0, 'rssi': -60, 'advSID': 255, 'periodicAdvInt': 0}, {'addr': '80:6F:B0:EE:AA:13', 'addrType': 0, 'rssi': -66, 'advSID': 255, 'periodicAdvInt': 0}, {'addr': '80:6F:B0:EE:AA:13', 'addrType': 0, 'rssi': -60, 'advSID': 1, 'periodicAdvInt': 240}, {'addr': '80:6F:B0:EE:9C:67', 'addrType': 0, 'rssi': -57, 'advSID': 1, 'periodicAdvInt': 240}]\n",
      "Try to connect to : 80:6F:B0:EE:AA:13\n",
      "Connected to : 80:6F:B0:EE:AA:13 with connection handle 0\n",
      "Try to connect to : 80:6F:B0:EE:9C:67\n",
      "Connected to : 80:6F:B0:EE:9C:67 with connection handle 1\n",
      "AOA Params Set for Connection Handle: 0\n",
      "AOA Params Set for Connection Handle: 1\n",
      "AOA Callback Set for All Connection Handlers\n",
      "AOA Started with Connection Handle: 0\n",
      "AOA Started with Connection Handle: 1\n",
      "Going to sleep for 10 sec\n",
      "Try to stop AOA result parsing threadSTOP Command Received\n",
      "\n",
      "AOA Stopped\n",
      "Master Disconnected\n",
      "Done\n",
      "{'80:6F:B0:EE:AA:13': [10, 10, 10, 11, 12, 13, 13, 14, 13, 11, 13, 11, 9, 10, 12, 12, 11, 14, 14, 14, 14, 13, 15, 10, 12], '80:6F:B0:EE:9C:67': [-5, -5, -6, -7, 0, -3, -6, -4, -3, -1, -5, -1, -1, -5, -1, -2, -4, -5, -4, 0, -6, 0, 0, -3, 1]}\n"
     ]
    },
    {
     "name": "stderr",
     "output_type": "stream",
     "text": [
      "10.19.190.195 - - [27/Mar/2023 19:15:39] \"GET /send/73 HTTP/1.1\" 200 -\n"
     ]
    },
    {
     "name": "stdout",
     "output_type": "stream",
     "text": [
      "Plane Angle: 75\n",
      "Master : <RTLSNode(CC26x2 Master, started daemon 2668)> \n",
      "Passives : [] \n",
      "All : [<RTLSNode(CC26x2 Master, started daemon 2668)>]\n",
      "Devices Reset\n",
      "Start scan for 5 sec\n",
      "Scan Results: [{'addr': '80:6F:B0:EE:AA:13', 'addrType': 0, 'rssi': -72, 'advSID': 1, 'periodicAdvInt': 240}, {'addr': '80:6F:B0:EE:9C:67', 'addrType': 0, 'rssi': -68, 'advSID': 1, 'periodicAdvInt': 240}, {'addr': '80:6F:B0:EE:AA:13', 'addrType': 0, 'rssi': -63, 'advSID': 255, 'periodicAdvInt': 0}, {'addr': '80:6F:B0:EE:9C:67', 'addrType': 0, 'rssi': -59, 'advSID': 255, 'periodicAdvInt': 0}]\n",
      "Try to connect to : 80:6F:B0:EE:AA:13\n",
      "Connected to : 80:6F:B0:EE:AA:13 with connection handle 0\n",
      "Try to connect to : 80:6F:B0:EE:9C:67\n",
      "Connected to : 80:6F:B0:EE:9C:67 with connection handle 1\n",
      "AOA Params Set for Connection Handle: 0\n",
      "AOA Params Set for Connection Handle: 1\n",
      "AOA Callback Set for All Connection Handlers\n",
      "AOA Started with Connection Handle: 0\n",
      "AOA Started with Connection Handle: 1\n",
      "Going to sleep for 10 sec\n",
      "Try to stop AOA result parsing threadSTOP Command Received\n",
      "\n",
      "AOA Stopped\n",
      "Master Disconnected\n",
      "Done\n",
      "{'80:6F:B0:EE:AA:13': [8, 8, 8, 9, 10, 9, 10, 11, 9, 8, 7, 9, 10, 8, 10, 11, 9, 7, 6, 6, 7, 6, 7, 9, 8, 6], '80:6F:B0:EE:9C:67': [5, 5, 1, 2, -1, 2, -1, 0, 0, -3, 1, -2, -2, -5, -5, 0, -2, -1, -3, -2, 3, 0, 0, -1, -1]}\n"
     ]
    },
    {
     "name": "stderr",
     "output_type": "stream",
     "text": [
      "10.19.190.195 - - [27/Mar/2023 19:17:01] \"GET /send/75 HTTP/1.1\" 200 -\n"
     ]
    }
   ],
   "source": [
    "app.run(host='0.0.0.0',port = 5000, debug=False)"
   ]
  },
  {
   "attachments": {},
   "cell_type": "markdown",
   "metadata": {},
   "source": [
    "### POST CALCULATION"
   ]
  },
  {
   "cell_type": "code",
   "execution_count": null,
   "metadata": {},
   "outputs": [],
   "source": [
    "# POST-ANALYSIS\n",
    "BIAS = -50\n",
    "BETA = .6\n",
    "post_calculation(69,75)"
   ]
  },
  {
   "attachments": {},
   "cell_type": "markdown",
   "metadata": {},
   "source": [
    "### ANGLE CALCULATION"
   ]
  },
  {
   "cell_type": "code",
   "execution_count": null,
   "metadata": {},
   "outputs": [],
   "source": [
    "# ELEVATION AND AZIMUTH ANGLE VERIFICATION\n",
    "from rtls_slave import pixel_calculate,angle_calculate\n",
    "import csv\n",
    "\n",
    "def calculate():\n",
    "    print(\"Before Turning：\"+str(aoabefore)+'\\n'+\"After Turning： \" + str(aoa) +'\\n'+\"Rotation Angle： \"+ str(lev))\n",
    "    #aoa_image()\n",
    "    angles = {}\n",
    "\n",
    "    for i in range(len(aoabefore)):\n",
    "        for j in range(len(aoa)):\n",
    "            (temp1, temp2) = pixel_calculate(lev[-2] - lev[-1], aoabefore[i], aoa[j])\n",
    "            angles[(aoabefore[i],aoa[j])] = (temp1,temp2)\n",
    "    return angles\n",
    "\n",
    "aoabefore = [47, 48, 47, 48, 49, 49, 47, 49, 49, 47, 48, 48]\n",
    "aoa = [48, 48, 44, 45, 43, 43, 44, 43, 47, 45, 46]\n",
    "aoabefore = [i-45 for i in aoabefore ]\n",
    "aoa = [i-45 for i in aoa]\n",
    "lev = [74,77]\n",
    "comp_parameter = 1\n",
    "print(calculate())"
   ]
  }
 ],
 "metadata": {
  "kernelspec": {
   "display_name": "rtls_AoA",
   "language": "python",
   "name": "python3"
  },
  "language_info": {
   "codemirror_mode": {
    "name": "ipython",
    "version": 3
   },
   "file_extension": ".py",
   "mimetype": "text/x-python",
   "name": "python",
   "nbconvert_exporter": "python",
   "pygments_lexer": "ipython3",
   "version": "3.8.8"
  },
  "orig_nbformat": 4,
  "vscode": {
   "interpreter": {
    "hash": "9dbae62cb076e09f7a0c782a3ba615695975d66d2b4e7855eb79efabda661339"
   }
  }
 },
 "nbformat": 4,
 "nbformat_minor": 2
}
