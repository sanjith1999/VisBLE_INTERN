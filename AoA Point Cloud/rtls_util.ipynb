{
 "cells": [
  {
   "attachments": {},
   "cell_type": "markdown",
   "metadata": {},
   "source": [
    "### SEVER DEFINITIONS\n"
   ]
  },
  {
   "cell_type": "code",
   "execution_count": 2,
   "metadata": {},
   "outputs": [],
   "source": [
    "# Necessary Imports\n",
    "from flask import Flask, jsonify\n",
    "from werkzeug.routing import IntegerConverter\n",
    "from _csv import Dialect as _Dialect\n",
    "import csv\n",
    "\n",
    "from rtls_single_slave import aoa_single_main, pixel_calculate\n",
    "from rtls_multiple_slave import aoa_multiple_main\n",
    "\n",
    "\n",
    "\n",
    "# Handle Negative Values\n",
    "class SignedIntConverter(IntegerConverter):\n",
    "    regex = r'-?\\d+'\n",
    "app = Flask(__name__)\n",
    "app.url_map.converters['signed_int'] = SignedIntConverter\n",
    "#Store input values: AoA and Horizontal Angle\n",
    "\n",
    "aoabefore = [1]\n",
    "aoa= [[] for i in range(1)]\n",
    "lev = []\n",
    "\n",
    "@app.route('/')\n",
    "def home():\n",
    "    return \"This is the HomePage\"\n",
    "\n",
    "#Routing Settings\n",
    "@app.route('/send/<signed_int:horiz>', methods=['GET'])\n",
    "def get_angle(horiz):\n",
    "    lev.append(horiz)\n",
    "    print(\"Plane Angle: \" + str(horiz))\n",
    "    aoabefore.clear()\n",
    "    aoabefore.extend(aoa.copy())\n",
    "\n",
    "    aoa.clear()\n",
    "    yy = []\n",
    "    aoa.extend(aoa_single_main())\n",
    "    return jsonify({'state': 'success'})\n",
    "\n",
    "@app.route('/calculate/', methods=['GET'])\n",
    "def calculate():\n",
    "    print(\"Before Turning：\"+str(aoabefore)+'\\n'+\"After Turning： \" + str(aoa) +'\\n'+\"Rotation Angle： \"+ str(lev))\n",
    "    #aoa_image()\n",
    "    u = []\n",
    "    v = []\n",
    "    minnumber = min(len(aoabefore), len(aoa))\n",
    "    f = open('./aoa_results/aoa_data_after_calibration.csv','a',newline=\"\")\n",
    "    f.truncate()\n",
    "    writer = csv.writer(f)\n",
    "    \n",
    "\n",
    "    for i in range(minnumber):\n",
    "        for j in range(minnumber):\n",
    "            (temp1, temp2) = pixel_calculate(lev[-2] - lev[-1], aoabefore[i], aoa[j])\n",
    "\n",
    "            if (temp1 != 1):\n",
    "                u.append(temp1)\n",
    "                v.append(temp2)\n",
    "                tupx = (temp1,temp2)\n",
    "                writer.writerow(tupx)\n",
    "    \n",
    "    f.close()\n",
    "    \n",
    "    return jsonify({'state': 'success'})"
   ]
  },
  {
   "attachments": {},
   "cell_type": "markdown",
   "metadata": {},
   "source": [
    "### RUNNING THE SEVER"
   ]
  },
  {
   "cell_type": "code",
   "execution_count": 4,
   "metadata": {},
   "outputs": [
    {
     "name": "stdout",
     "output_type": "stream",
     "text": [
      " * Serving Flask app '__main__'\n",
      " * Debug mode: off\n"
     ]
    },
    {
     "name": "stderr",
     "output_type": "stream",
     "text": [
      "WARNING: This is a development server. Do not use it in a production deployment. Use a production WSGI server instead.\n",
      " * Running on all addresses (0.0.0.0)\n",
      " * Running on http://127.0.0.1:5000\n",
      " * Running on http://10.19.217.212:5000\n",
      "Press CTRL+C to quit\n"
     ]
    },
    {
     "name": "stdout",
     "output_type": "stream",
     "text": [
      "Plane Angle: 4\n"
     ]
    },
    {
     "name": "stderr",
     "output_type": "stream",
     "text": [
      "[2023-03-09 15:42:45,876] ERROR in app: Exception on /send/4 [GET]\n",
      "Traceback (most recent call last):\n",
      "  File \"d:\\Python_VENV\\rtls_AoA\\lib\\site-packages\\flask\\app.py\", line 2528, in wsgi_app\n",
      "    response = self.full_dispatch_request()\n",
      "  File \"d:\\Python_VENV\\rtls_AoA\\lib\\site-packages\\flask\\app.py\", line 1825, in full_dispatch_request\n",
      "    rv = self.handle_user_exception(e)\n",
      "  File \"d:\\Python_VENV\\rtls_AoA\\lib\\site-packages\\flask\\app.py\", line 1823, in full_dispatch_request\n",
      "    rv = self.dispatch_request()\n",
      "  File \"d:\\Python_VENV\\rtls_AoA\\lib\\site-packages\\flask\\app.py\", line 1799, in dispatch_request\n",
      "    return self.ensure_sync(self.view_functions[rule.endpoint])(**view_args)\n",
      "  File \"C:\\Users\\sanji\\AppData\\Local\\Temp\\ipykernel_4408\\1592888128.py\", line 37, in get_angle\n",
      "    aoa.extend(aoa_single_main())\n",
      "  File \"e:\\intern_VisBLE\\VisBLE_INTERN\\AoA Point Cloud\\rtls_single_slave.py\", line 271, in aoa_single_main\n",
      "    return main1()\n",
      "  File \"e:\\intern_VisBLE\\VisBLE_INTERN\\AoA Point Cloud\\rtls_single_slave.py\", line 283, in main1\n",
      "    clf.fit(np.array(y).reshape(-1, 1))  # Use X_train to train the detector clf\n",
      "  File \"d:\\Python_VENV\\rtls_AoA\\lib\\site-packages\\pyod\\models\\knn.py\", line 190, in fit\n",
      "    X = check_array(X)\n",
      "  File \"d:\\Python_VENV\\rtls_AoA\\lib\\site-packages\\sklearn\\utils\\validation.py\", line 931, in check_array\n",
      "    raise ValueError(\n",
      "ValueError: Found array with 0 sample(s) (shape=(0, 1)) while a minimum of 1 is required.\n",
      "10.19.190.195 - - [09/Mar/2023 15:42:45] \"GET /send/4 HTTP/1.1\" 500 -\n"
     ]
    },
    {
     "name": "stdout",
     "output_type": "stream",
     "text": [
      "=== ERROR: No one of the nodes identified as RTLS MASTER ===\n",
      "Try to stop AOA result parsing thread\n",
      "AOA Stopped\n",
      "Done\n"
     ]
    },
    {
     "name": "stderr",
     "output_type": "stream",
     "text": [
      "10.19.190.195 - - [09/Mar/2023 15:42:47] \"GET /calculate/ HTTP/1.1\" 200 -\n"
     ]
    },
    {
     "name": "stdout",
     "output_type": "stream",
     "text": [
      "Before Turning：[[]]\n",
      "After Turning： []\n",
      "Rotation Angle： [4]\n"
     ]
    }
   ],
   "source": [
    "app.run(host='0.0.0.0',port = 5000, debug=False)"
   ]
  }
 ],
 "metadata": {
  "kernelspec": {
   "display_name": "rtls_AoA",
   "language": "python",
   "name": "python3"
  },
  "language_info": {
   "codemirror_mode": {
    "name": "ipython",
    "version": 3
   },
   "file_extension": ".py",
   "mimetype": "text/x-python",
   "name": "python",
   "nbconvert_exporter": "python",
   "pygments_lexer": "ipython3",
   "version": "3.8.8"
  },
  "orig_nbformat": 4,
  "vscode": {
   "interpreter": {
    "hash": "9dbae62cb076e09f7a0c782a3ba615695975d66d2b4e7855eb79efabda661339"
   }
  }
 },
 "nbformat": 4,
 "nbformat_minor": 2
}
