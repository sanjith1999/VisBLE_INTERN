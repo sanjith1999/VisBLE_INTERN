{
  "cells": [
    {
      "cell_type": "code",
      "execution_count": null,
      "metadata": {
        "colab": {
          "base_uri": "https://localhost:8080/"
        },
        "id": "aruSJgfRb_dO",
        "outputId": "5155ce85-f469-44ae-c994-80ec5604d9f8"
      },
      "outputs": [],
      "source": [
        "import tensorflow as tf\n",
        "print(tf.__version__)\n",
        "import h5py\n",
        "print(h5py.__version__) "
      ]
    },
    {
      "cell_type": "markdown",
      "metadata": {
        "id": "SyHA5OKnbSqD"
      },
      "source": [
        "\n",
        "Mask R-CNN Demo\n",
        "\n",
        "A quick intro to using the pre-trained model to detect and segment objects."
      ]
    },
    {
      "cell_type": "code",
      "execution_count": null,
      "metadata": {},
      "outputs": [],
      "source": [
        "import os\n",
        "import sys\n",
        "import random\n",
        "import math\n",
        "import pickle\n",
        "import numpy as np\n",
        "import skimage.io\n",
        "import matplotlib\n",
        "import matplotlib.pyplot as plt\n",
        "\n",
        "# Root directory of the project\n",
        "ROOT_DIR = os.path.abspath(\"./Mask_RCNN\")\n",
        "\n",
        "# Import Mask RCNN\n",
        "sys.path.append(ROOT_DIR)  # To find local version of the library\n",
        "\n",
        "from mrcnn import utils\n",
        "\n",
        "from mrcnn import visualize\n",
        "# Import COCO config\n",
        "# sys.path.append(os.path.join(ROOT_DIR, \"samples/coco/\"))  # To find local version\n",
        "# import coco\n",
        "\n",
        "\n",
        "%matplotlib inline \n",
        "\n",
        "# Directory to save logs and trained model\n",
        "MODEL_DIR = os.path.join(ROOT_DIR, \"logs\")\n",
        "\n",
        "# Local path to trained weights file\n",
        "COCO_MODEL_PATH = os.path.join(ROOT_DIR, \"mask_rcnn_coco.h5\")\n",
        "# Download COCO trained weights from Releases if needed\n",
        "if not os.path.exists(COCO_MODEL_PATH):\n",
        "    utils.download_trained_weights(COCO_MODEL_PATH)\n",
        "\n",
        "# Directory of images to run detection on\n",
        "IMAGE_DIR = os.path.join(ROOT_DIR, \"images\")\n",
        "\n",
        "\n",
        "\n",
        "import mrcnn.model as modellib"
      ]
    },
    {
      "cell_type": "code",
      "execution_count": null,
      "metadata": {
        "colab": {
          "base_uri": "https://localhost:8080/"
        },
        "id": "PUqZY-bebd2X",
        "outputId": "47967c1a-d67c-41fe-f66f-177ca12969d2"
      },
      "outputs": [],
      "source": [
        "class InferenceConfig(coco.CocoConfig):\n",
        "    # Set batch size to 1 since we'll be running inference on\n",
        "    # one image at a time. Batch size = GPU_COUNT * IMAGES_PER_GPU\n",
        "    GPU_COUNT = 1\n",
        "    IMAGES_PER_GPU = 1\n",
        "\n",
        "config = InferenceConfig()\n",
        "# config.display()\n",
        "\n",
        "# Create model object in inference mode.\n",
        "model = modellib.MaskRCNN(mode=\"inference\", model_dir=MODEL_DIR, config=config)\n",
        "\n",
        "# Load weights trained on MS-COCO\n",
        "model.load_weights(COCO_MODEL_PATH, by_name=True)\n",
        "\n",
        "class_names = ['BG', 'person', 'bicycle', 'car', 'motorcycle', 'airplane',\n",
        "               'bus', 'train', 'truck', 'boat', 'traffic light',\n",
        "               'fire hydrant', 'stop sign', 'parking meter', 'bench', 'bird',\n",
        "               'cat', 'dog', 'horse', 'sheep', 'cow', 'elephant', 'bear',\n",
        "               'zebra', 'giraffe', 'backpack', 'umbrella', 'handbag', 'tie',\n",
        "               'suitcase', 'frisbee', 'skis', 'snowboard', 'sports ball',\n",
        "               'kite', 'baseball bat', 'baseball glove', 'skateboard',\n",
        "               'surfboard', 'tennis racket', 'bottle', 'wine glass', 'cup',\n",
        "               'fork', 'knife', 'spoon', 'bowl', 'banana', 'apple',\n",
        "               'sandwich', 'orange', 'broccoli', 'carrot', 'hot dog', 'pizza',\n",
        "               'donut', 'cake', 'chair', 'couch', 'potted plant', 'bed',\n",
        "               'dining table', 'toilet', 'tv', 'laptop', 'mouse', 'remote',\n",
        "               'keyboard', 'cell phone', 'microwave', 'oven', 'toaster',\n",
        "               'sink', 'refrigerator', 'book', 'clock', 'vase', 'scissors',\n",
        "               'teddy bear', 'hair drier', 'toothbrush']"
      ]
    },
    {
      "cell_type": "code",
      "execution_count": null,
      "metadata": {
        "id": "npTY160ioetl"
      },
      "outputs": [],
      "source": [
        "import cv2\n",
        "# Load a random image from the images folder\n",
        "file_names = next(os.walk(IMAGE_DIR))[2]\n",
        "image = skimage.io.imread(os.path.join(IMAGE_DIR, random.choice(file_names)))\n",
        "\n",
        "image = skimage.io.imread(\"/content/images/example30.jpg\")\n",
        "# Run detection\n",
        "results = model.detect([image], verbose=1)\n",
        "for item in xy:\n",
        "    cv2.drawMarker(image, (item[0], item[1]), (255, 0, 0), markerType=cv2.MARKER_STAR,\n",
        "                    markerSize=40, thickness=2, line_type=cv2.LINE_AA)\n",
        "\n",
        "# Visualize results\n",
        "r = results[0]\n",
        "visualize.display_instances(image, r['rois'], r['masks'], r['class_ids'], \n",
        "                            class_names, r['scores'])\n",
        "plt.savefig(\"test.jpg\")"
      ]
    },
    {
      "cell_type": "code",
      "execution_count": null,
      "metadata": {
        "id": "bulIfwzPsTJW"
      },
      "outputs": [],
      "source": [
        "data_dir = \"/content/images\"\n",
        "for i in os.listdir(data_dir):  \n",
        "  print(os.path.join(data_dir,i))\n",
        "  image = skimage.io.imread(os.path.join(data_dir,i))\n",
        "  results = model.detect([image], verbose=1)\n",
        "  r = results[0]\n",
        "  visualize.display_instances(image, r['rois'], r['masks'], r['class_ids'], \n",
        "                              class_names, r['scores'])\n",
        "  with open(i+\".pkl\",\"wb\") as fw:\n",
        "    pickle.dump(results,fw)\n"
      ]
    },
    {
      "cell_type": "code",
      "execution_count": null,
      "metadata": {
        "id": "hUfAPVj2Y7p2"
      },
      "outputs": [],
      "source": [
        "import cv2\n",
        "data_dir = \"/content/images\"\n",
        "for i in os.listdir(data_dir):  \n",
        "  print(os.path.join(data_dir,i))\n",
        "  if(i.split('.')[-1]!='jpg'):\n",
        "    break\n",
        "  image = skimage.io.imread(os.path.join(data_dir,i))\n",
        "  results = model.detect([image], verbose=1)\n",
        "  r = results[0]\n",
        "  visualize.display_instances(image, r['rois'], r['masks'], r['class_ids'], class_names, r['scores'])\n",
        "  masks = r['masks']\n",
        "  for j in range(len(r['class_ids'])):\n",
        "    if class_names[r['class_ids'][j]]=='bottle':\n",
        "      answer = np.where(masks[:,:,j])\n",
        "      answer = np.array(answer)\n",
        "      file_name = \"answer/\"+i.split('.')[0]+\"_\"+str(r['scores'][j])+\".csv\"\n",
        "      np.savetxt(file_name, answer.T, delimiter=\",\",fmt=\"%d\")\n"
      ]
    },
    {
      "cell_type": "code",
      "execution_count": null,
      "metadata": {
        "id": "h1kQA21-NQJ6"
      },
      "outputs": [],
      "source": [
        "def dye_mask(img1, results, positions, output='img_seg.jpg'):\n",
        "  import cv2\n",
        "  masks = results[0][\"masks\"]\n",
        "  scores = results[0][\"scores\"]\n",
        "  num_objects = len(scores)\n",
        "  final_score = np.zeros(num_objects)\n",
        "  for i in range(num_objects):\n",
        "      mask = masks[:, :, i]\n",
        "      count = 0\n",
        "      size = np.where(mask)[0].shape[0]\n",
        "      for x, y in positions:\n",
        "          if mask[y, x]:\n",
        "              count += 1\n",
        "      final_score[i] = count / size * scores[i]\n",
        "  k = np.argmax(final_score)\n",
        "  mask = masks[:, :, k]\n",
        "  mask = np.where(mask, 255, 0).astype(\"uint8\")\n",
        "  mask = np.expand_dims(mask, axis=2)\n",
        "  img0 = np.zeros(mask.shape).astype(\"uint8\")\n",
        "  mask = np.concatenate((img0, mask, img0), axis=-1)\n",
        "  img4 = cv2.addWeighted(img1, 1, mask, 1, 0)\n",
        "  cv2.imwrite(output, img4)\n",
        "\n",
        "def draw_mask(img_dir, AoA_dir, all_dir, final_dir, data_dir):\n",
        "  image = skimage.io.imread(img_dir)\n",
        "  positions = np.loadtxt(AoA_dir, delimiter=',').astype(int)\n",
        "  import cv2\n",
        "  img1 = cv2.imread(img_dir)\n",
        "  print(image.shape)\n",
        "  print(img1.shape)\n",
        "  results = model.detect([image], verbose=1)\n",
        "  r = results[0]\n",
        "  visualize.display_instances(image, r['rois'], r['masks'], r['class_ids'], class_names, r['scores'], output_file=all_dir)\n",
        "  masks = r[\"masks\"]\n",
        "  scores = r[\"scores\"]\n",
        "  num_objects = len(scores)\n",
        "  final_score = np.zeros(num_objects)\n",
        "  now_masks = []\n",
        "  for i in range(num_objects):\n",
        "      mask = masks[:, :, i]\n",
        "      count = 0\n",
        "      size = np.where(mask)[0].shape[0]\n",
        "      for x, y in positions:\n",
        "          if(x>=4032)or(x<0):\n",
        "            continue\n",
        "          if(y>=3024)or(y<0):\n",
        "            continue\n",
        "          if mask[y, x]:\n",
        "              count += 1\n",
        "      final_score[i] = count / size * scores[i]\n",
        "      now_masks.append(mask)\n",
        "  k = np.argmax(final_score)\n",
        "  mask = masks[:, :, k]\n",
        "  r[\"final_mask\"] = mask\n",
        "  mask = np.where(mask, 255, 0).astype(\"uint8\")\n",
        "  mask = np.expand_dims(mask, axis=2)\n",
        "  img0 = np.zeros(mask.shape).astype(\"uint8\")\n",
        "  mask = np.concatenate((img0, mask, img0), axis=-1)\n",
        "  img4 = cv2.addWeighted(img1, 1, mask, 1, 0)\n",
        "  cv2.imwrite(final_dir, img4)\n",
        "  r[\"masks\"] = now_masks\n",
        "  r[\"final_score\"] = final_score\n",
        "  import pickle\n",
        "  fr = open(data_dir,\"wb\")\n",
        "  pickle.dump(r,fr)"
      ]
    },
    {
      "cell_type": "code",
      "execution_count": null,
      "metadata": {
        "colab": {
          "base_uri": "https://localhost:8080/",
          "height": 1000
        },
        "id": "otsEDlFZsK9T",
        "outputId": "4a671f06-35b8-48bc-ae44-8a2f59bdfab2"
      },
      "outputs": [],
      "source": [
        "if not os.path.exists(\"/content/result/\"):\n",
        "  os.mkdir(\"/content/result/\")\n",
        "for i in os.listdir(\"/content/Vision_performance/\"):\n",
        "  in_dir = \"/content/Vision_performance/\"+i+\"/\"\n",
        "  out_dir = \"/content/result/\"+i+\"/\"\n",
        "  if not os.path.exists(out_dir):\n",
        "    os.mkdir(out_dir)\n",
        "  draw_mask(in_dir+\"example_after.jpg\",in_dir+\"AoA_position_after.csv\",out_dir+\"all_after.jpg\",out_dir+\"final_after.jpg\",out_dir+\"data_after\")\n",
        "  draw_mask(in_dir+\"example_before.jpg\",in_dir+\"AoA_position_before.csv\",out_dir+\"all_before.jpg\",out_dir+\"final_before.jpg\",out_dir+\"data_before\")"
      ]
    },
    {
      "cell_type": "code",
      "execution_count": null,
      "metadata": {
        "colab": {
          "base_uri": "https://localhost:8080/",
          "height": 940
        },
        "id": "76x7ze0TOf3-",
        "outputId": "586cf9a7-e13a-487a-8ba3-e04a83018de2"
      },
      "outputs": [],
      "source": [
        "# img_dir = \"/content/example1_before.jpg\"\n",
        "# AoA_dir = \"/content/AoA_position_before.csv\"\n",
        "img_dir = \"/content/example2_after.jpg\"\n",
        "AoA_dir = \"/content/AoA_position_after.csv\"\n",
        "image = skimage.io.imread(img_dir)\n",
        "\n",
        "positions = np.loadtxt(AoA_dir, delimiter=',').astype(int)\n",
        "print(positions)\n",
        "results = model.detect([image], verbose=1)\n",
        "r = results[0]\n",
        "visualize.display_instances(image, r['rois'], r['masks'], r['class_ids'], class_names, r['scores'])\n",
        "\n",
        "import cv2\n",
        "img1 = cv2.imread(img_dir)\n",
        "# dye_mask(img1,results,positions,\"example1_before_Mask.jpg\")\n",
        "dye_mask(img1,results,positions,\"example2_after_Mask.jpg\")\n"
      ]
    }
  ],
  "metadata": {
    "accelerator": "GPU",
    "colab": {
      "collapsed_sections": [],
      "name": "Mask RCNN",
      "provenance": []
    },
    "kernelspec": {
      "display_name": "Python 3",
      "language": "python",
      "name": "python3"
    },
    "language_info": {
      "codemirror_mode": {
        "name": "ipython",
        "version": 3
      },
      "file_extension": ".py",
      "mimetype": "text/x-python",
      "name": "python",
      "nbconvert_exporter": "python",
      "pygments_lexer": "ipython3",
      "version": "3.8.8"
    },
    "vscode": {
      "interpreter": {
        "hash": "54207ef9f330f85661965666fabc972c517b59191034cd913f55e594a3909c08"
      }
    }
  },
  "nbformat": 4,
  "nbformat_minor": 0
}
