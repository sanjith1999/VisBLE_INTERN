{
 "cells": [
  {
   "attachments": {},
   "cell_type": "markdown",
   "metadata": {},
   "source": [
    "### DATA COLLECTION"
   ]
  },
  {
   "cell_type": "code",
   "execution_count": 3,
   "metadata": {},
   "outputs": [],
   "source": [
    "# Necessary Imports\n",
    "from flask import Flask, jsonify\n",
    "from werkzeug.routing import IntegerConverter\n",
    "from _csv import Dialect as _Dialect\n",
    "import copy\n",
    "import csv\n",
    "import os\n",
    "from lib.rtls_slave import pixel_calculate, aoa_main, sort_data\n",
    "import json\n",
    "\n",
    "\n",
    "ENVIRONMENT = 'random'\n",
    "\n",
    "# Handle Negative Values\n",
    "class SignedIntConverter(IntegerConverter):\n",
    "    regex = r'-?\\d+'\n",
    "app = Flask(__name__)\n",
    "app.url_map.converters['signed_int'] = SignedIntConverter\n",
    "#Store input values: AoA and Horizontal Angle\n",
    "\n",
    "aoabefore = {}\n",
    "aoa= {}\n",
    "lev = []\n",
    "\n",
    "@app.route('/')\n",
    "def home():\n",
    "    return \"This is the HomePage\"\n",
    "\n",
    "#Routing Settings\n",
    "@app.route('/send/<signed_int:yaw>/<signed_int:roll>/<signed_int:pitch>', methods=['GET'])\n",
    "def get_angle(yaw,roll,pitch):\n",
    "    print(f\"YAW: {yaw}, ROLL: {roll}, PITCH: {pitch}\")\n",
    "    global aoa\n",
    "    global aoabefore\n",
    "    \n",
    "    print(\"Plane Angle: \" + str(roll))\n",
    "    aoa_result = aoa_main()\n",
    "    input_letter = input(\"If you want to add this data to list type 'y', otherwise press Enter\")\n",
    "    if input_letter!='y':\n",
    "        return jsonify({'state':'Try Again'})\n",
    "    lev.append(roll)\n",
    "    aoabefore = copy.deepcopy(aoa)\n",
    "    aoa = aoa_result\n",
    "\n",
    "    with open(f\"./data/aoa_data/{ENVIRONMENT}_{roll}.json\",'w') as f:\n",
    "        json.dump(aoa_result, f)\n",
    "        \n",
    "    return jsonify({'state': 'success'})\n",
    "\n",
    "@app.route('/calculate/', methods=['GET'])\n",
    "def calculate():\n",
    "    # ANGLE SORTING TECHNIQUES\n",
    "    aoabefore_ = sort_data(aoabefore,aoa_bias = -35)\n",
    "    aoa_ = sort_data(aoa,aoa_bias = -35)\n",
    "\n",
    "    print(\"Before Turning：\"+str(aoabefore)+'\\n'+\"After Turning： \" + str(aoa) +'\\n'+\"Rotation Angle： \"+ str(lev))\n",
    "    set_aoa = set(aoa_)\n",
    "    set_aoabefore = set(aoabefore_)\n",
    "\n",
    "    for slave in set_aoa.intersection(set_aoabefore):\n",
    "        f = open(f\"./results/pixels/{slave.replace(':','_')}.csv\",'w',newline=\"\")\n",
    "        f.truncate()\n",
    "        writer = csv.writer(f)\n",
    "        \n",
    "        data_before = aoabefore_[slave]\n",
    "        data_after = aoa_[slave]\n",
    "\n",
    "        for i in range(len(data_before[0])):\n",
    "            for j in range(len(data_after[0])):\n",
    "                (temp1, temp2) = pixel_calculate(lev[-2] - lev[-1], data_before[0][i], data_after[0][j])\n",
    "                count = data_before[1][i]*data_after[1][j]\n",
    "                if temp1 != -1:\n",
    "                    tux = (temp1, temp2,count)\n",
    "                    writer.writerow(tux)\n",
    "\n",
    "        f.close()\n",
    "                \n",
    "        \n",
    "        f.close()\n",
    "\n",
    "    \n",
    "    return jsonify({'state': 'success'})"
   ]
  },
  {
   "cell_type": "code",
   "execution_count": 5,
   "metadata": {},
   "outputs": [
    {
     "name": "stdout",
     "output_type": "stream",
     "text": [
      " * Serving Flask app '__main__' (lazy loading)\n",
      " * Environment: production\n",
      "\u001b[31m   WARNING: This is a development server. Do not use it in a production deployment.\u001b[0m\n",
      "\u001b[2m   Use a production WSGI server instead.\u001b[0m\n",
      " * Debug mode: off\n"
     ]
    },
    {
     "name": "stderr",
     "output_type": "stream",
     "text": [
      "WARNING: This is a development server. Do not use it in a production deployment. Use a production WSGI server instead.\n",
      " * Running on all addresses (0.0.0.0)\n",
      " * Running on http://127.0.0.1:5000\n",
      " * Running on http://10.19.217.212:5000\n",
      "Press CTRL+C to quit\n"
     ]
    },
    {
     "name": "stdout",
     "output_type": "stream",
     "text": [
      "YAW: -68, ROLL: 4, PITCH: 178\n",
      "Plane Angle: 4\n",
      "=== ERROR: No one of the nodes identified as RTLS MASTER ===\n",
      "Try to stop AOA result parsing thread\n",
      "AOA Stopped\n",
      "Done\n",
      "{}\n"
     ]
    },
    {
     "name": "stderr",
     "output_type": "stream",
     "text": [
      "10.19.190.195 - - [05/May/2023 15:41:33] \"GET /send/-68/4/178 HTTP/1.1\" 200 -\n"
     ]
    },
    {
     "name": "stdout",
     "output_type": "stream",
     "text": [
      "YAW: -1, ROLL: 0, PITCH: -108\n",
      "Plane Angle: 0\n",
      "=== ERROR: No one of the nodes identified as RTLS MASTER ===\n",
      "Try to stop AOA result parsing thread\n",
      "AOA Stopped\n",
      "Done\n",
      "{}\n"
     ]
    },
    {
     "name": "stderr",
     "output_type": "stream",
     "text": [
      "10.19.190.195 - - [05/May/2023 15:43:01] \"GET /send/-1/0/-108 HTTP/1.1\" 200 -\n"
     ]
    }
   ],
   "source": [
    "ENVIRONMENT = 'random'\n",
    "app.run(host='0.0.0.0',port = 5000, debug=False)\n",
    "# My Charger: 80:6F:B0:EE:AD:32 : Water Bottle.\n",
    "# Ishrath Charger:  80:6F:B0:EE:AA:13 : Tea Bottle."
   ]
  },
  {
   "attachments": {},
   "cell_type": "markdown",
   "metadata": {},
   "source": [
    "### POST POINT CALCULATION"
   ]
  },
  {
   "cell_type": "code",
   "execution_count": 15,
   "metadata": {},
   "outputs": [
    {
     "name": "stdout",
     "output_type": "stream",
     "text": [
      "Rotation Angle: 68 --> 74\n",
      "\n",
      "Slave :80:6F:B0:EE:AA:13 \n",
      "\tAoA Before:[-5.80571429 -5.27238095 -4.73904762 -4.20571429] \n",
      "\tAoA After:[-4.81333333 -4.28       -3.74666667 -3.21333333]\n",
      "\tCenter: (2316.763856802069, 1849.4252781336704)\n",
      "\n"
     ]
    },
    {
     "data": {
      "text/plain": [
       "'POINTS CALCULATION SUCCESSFUL'"
      ]
     },
     "execution_count": 15,
     "metadata": {},
     "output_type": "execute_result"
    }
   ],
   "source": [
    "# Some Manual Twiking Required\n",
    "post_calculation('calibration_set1_ii',68,74,aoa_bias = -50)"
   ]
  },
  {
   "cell_type": "code",
   "execution_count": 16,
   "metadata": {},
   "outputs": [
    {
     "name": "stdout",
     "output_type": "stream",
     "text": [
      "CASE: calibration_set1_i\n",
      "Rotation Angle: 68 --> 74\n",
      "\n",
      "Slave :80:6F:B0:EE:AA:13 \n",
      "\tAoA Before:[-11.78494624 -11.2516129  -10.71827957 -10.18494624] \n",
      "\tAoA After:[-11.73365854 -11.25365854 -10.77365854 -10.29365854  -9.81365854\n",
      "  -9.33365854]\n",
      "\tCenter: (2982.302048950748, 1824.690260992856)\n",
      "\n",
      "CASE: calibration_set1_ii\n",
      "Rotation Angle: 68 --> 74\n",
      "\n",
      "Slave :80:6F:B0:EE:AA:13 \n",
      "\tAoA Before:[-5.80571429 -5.27238095 -4.73904762 -4.20571429] \n",
      "\tAoA After:[-4.81333333 -4.28       -3.74666667 -3.21333333]\n",
      "\tCenter: (2316.763856802069, 1849.4252781336704)\n",
      "\n",
      "CASE: calibration_set1_iii\n",
      "Rotation Angle: 68 --> 74\n",
      "\n",
      "Slave :80:6F:B0:EE:AA:13 \n",
      "\tAoA Before:[28.36336996 28.82051282 29.27765568 29.73479853 30.19194139 30.64908425\n",
      " 31.10622711 31.56336996] \n",
      "\tAoA After:[33.24648649 33.72648649 34.20648649 34.68648649 35.16648649 35.64648649]\n",
      "\tCenter: (-209.69310279408091, -633.8178150874869)\n",
      "\n",
      "CASE: calibration_set1_iv\n",
      "Rotation Angle: 68 --> 74\n",
      "\n",
      "Slave :80:6F:B0:EE:AA:13 \n",
      "\tAoA Before:[24.20540541 24.73873874 25.27207207 25.80540541] \n",
      "\tAoA After:[24.35142857 24.80857143 25.26571429 25.72285714 26.18       26.63714286\n",
      " 27.09428571 27.55142857]\n",
      "\tCenter: (-502.32757149830786, 1471.6757528700723)\n",
      "\n",
      "CASE: calibration_set1_v\n",
      "Rotation Angle: 68 --> 74\n",
      "\n",
      "Slave :80:6F:B0:EE:AA:13 \n",
      "\tAoA Before:[25.2        25.73333333 26.26666667 26.8       ] \n",
      "\tAoA After:[22.26 22.74 23.22 23.7  24.18 24.66]\n",
      "\tCenter: (-206.43995431155008, 2902.1085565196827)\n",
      "\n",
      "CASE: calibration_set1_vi\n",
      "Rotation Angle: 68 --> 74\n",
      "\n",
      "Slave :80:6F:B0:EE:AA:13 \n",
      "\tAoA Before:[-25.77666667 -25.29666667 -24.81666667 -24.33666667 -23.85666667\n",
      " -23.37666667] \n",
      "\tAoA After:[-28.02716049 -27.58271605 -27.1382716  -26.69382716 -26.24938272\n",
      " -25.80493827 -25.36049383 -24.91604938 -24.47160494]\n",
      "\tCenter: (4461.633122897452, 1151.824505921276)\n",
      "\n",
      "CASE: calibration_set1_vii\n",
      "Rotation Angle: 68 --> 74\n",
      "\n",
      "Slave :80:6F:B0:EE:AA:13 \n",
      "\tAoA Before:[-35.46363636 -35.02727273 -34.59090909 -34.15454545 -33.71818182\n",
      " -33.28181818 -32.84545455 -32.40909091 -31.97272727] \n",
      "\tAoA After:[-39.51388889 -39.06944444 -38.625      -38.18055556 -37.73611111\n",
      " -37.29166667 -36.84722222 -36.40277778 -35.95833333]\n",
      "\tCenter: (4849.651679633397, -654.1197627595006)\n",
      "\n",
      "CASE: calibration_set1_viii\n",
      "Rotation Angle: 68 --> 74\n",
      "\n",
      "Slave :80:6F:B0:EE:AA:13 \n",
      "\tAoA Before:[-27.95137255 -27.52470588 -27.09803922 -26.67137255 -26.24470588\n",
      " -25.81803922 -25.39137255 -24.96470588 -24.53803922] \n",
      "\tAoA After:[-27.82212766 -27.40612766 -26.99012766 -26.57412766 -26.15812766\n",
      " -25.74212766 -25.32612766 -24.91012766 -24.49412766 -24.07812766]\n",
      "\tCenter: (4598.153117643011, 1923.46319899937)\n",
      "\n",
      "CASE: calibration_set1_ix\n",
      "Rotation Angle: 68 --> 74\n",
      "\n",
      "Slave :80:6F:B0:EE:AA:13 \n",
      "\tAoA Before:[-5.76342857 -5.28342857 -4.80342857 -4.32342857 -3.84342857 -3.36342857] \n",
      "\tAoA After:[-6.64285714 -6.16285714 -5.68285714 -5.20285714 -4.72285714 -4.24285714]\n",
      "\tCenter: (2376.4022166448553, 1749.7207119494317)\n",
      "\n"
     ]
    },
    {
     "name": "stderr",
     "output_type": "stream",
     "text": [
      "f:\\intern_VisBLE\\VisBLE_INTERN\\codes\\lib\\rtls_slave.py:293: RuntimeWarning: invalid value encountered in arccos\n",
      "  azimuth_angle = np.arccos(np.cos(angle1) / np.sin(elevation_angle))\n",
      "f:\\intern_VisBLE\\VisBLE_INTERN\\codes\\lib\\rtls_slave.py:293: RuntimeWarning: invalid value encountered in arccos\n",
      "  azimuth_angle = np.arccos(np.cos(angle1) / np.sin(elevation_angle))\n"
     ]
    }
   ],
   "source": [
    "from lib.rtls_slave import post_calculation\n",
    "\n",
    "\n",
    "with open(\"./data/aoa_data/calculations.txt\", \"r\") as file:\n",
    "    for line in file:\n",
    "        ctnt = line.split('_')\n",
    "        CASE = '_'.join(ctnt[:-2])\n",
    "        L1 = int(ctnt[-2])\n",
    "        L2 = int(ctnt[-1])\n",
    "        print(f\"CASE: {CASE}\")\n",
    "        post_calculation(CASE,L1,L2,aoa_bias = -50)"
   ]
  },
  {
   "attachments": {},
   "cell_type": "markdown",
   "metadata": {},
   "source": [
    "### VISUALIZING THE ANGLE"
   ]
  },
  {
   "cell_type": "code",
   "execution_count": null,
   "metadata": {},
   "outputs": [],
   "source": [
    "from lib.rtls_slave import visualize_aoa_spread\n",
    "\n",
    "CASE = 'three_down_indoor_i'\n",
    "level = 74\n",
    "visualize_aoa_spread(CASE, level)"
   ]
  },
  {
   "cell_type": "code",
   "execution_count": null,
   "metadata": {},
   "outputs": [],
   "source": [
    "from lib.rtls_slave import visualize_aoa_turn_spread\n",
    "\n",
    "CASE = 'two_top_indoor'\n",
    "level1 = 68\n",
    "level2 = 76\n",
    "vis_bias = 0\n",
    "\n",
    "visualize_aoa_turn_spread(CASE, level1, level2, vis_bias)"
   ]
  },
  {
   "attachments": {},
   "cell_type": "markdown",
   "metadata": {},
   "source": [
    "### RAW DATA VISUALIZATION"
   ]
  },
  {
   "cell_type": "code",
   "execution_count": null,
   "metadata": {},
   "outputs": [],
   "source": [
    "import matplotlib.pyplot as plt\n",
    "import json\n",
    "\n",
    "def visualize_aoa_spread(CASE, level, num_bins = 100):\n",
    "\n",
    "    with open(f'./data/aoa_data/{CASE}_{level}.json', 'r') as f:\n",
    "        aoa_data = json.load(f)\n",
    "\n",
    "    # Create a figure and axis object\n",
    "    fig, ax = plt.subplots()\n",
    "\n",
    "    # Set the x and y labels and title\n",
    "    ax.set_xlabel(\"Angle of Arrival\")\n",
    "    ax.set_ylabel(\"# of Occurance\")\n",
    "    ax.set_title(\"Histogram of Angle of Arrival\")\n",
    "\n",
    "    # Set the number of bins in the histogram\n",
    "\n",
    "    # Loop over each slave and plot its angle of arrival data as a histogram\n",
    "    for slave, data in aoa_data.items():\n",
    "        ax.hist(data, bins=num_bins, alpha=0.5, label=slave)\n",
    "\n",
    "    # Add a legend to the plot\n",
    "    ax.legend()\n",
    "\n",
    "    # Show the plot\n",
    "    plt.show()\n",
    "\n",
    "    if len(aoa_data.keys())>1:\n",
    "        # Set up the figure with subplots\n",
    "        fig, axs = plt.subplots(nrows=1, ncols=len(aoa_data.keys()), figsize=(10, 5))\n",
    "\n",
    "        # Iterate over each slave and plot a histogram of its angle of arrival data\n",
    "        for i, slave in enumerate(aoa_data.keys()):\n",
    "            axs[i].hist(aoa_data[slave], bins=num_bins,color='lightblue')  # adjust bins as needed\n",
    "            axs[i].set_title(slave)\n",
    "            axs[i].set_xlabel(\"Angle of Arrival\")\n",
    "            axs[i].set_ylabel(\"# of Occurance\")\n",
    "\n",
    "        # Adjust the spacing between subplots and display the figure\n",
    "        plt.tight_layout()\n",
    "\n",
    "        plt.show()\n",
    "        \n",
    "        return \"SUCESS\"\n",
    "    \n",
    "\n",
    "visualize_aoa_spread('one_top_indoor',70,100)"
   ]
  }
 ],
 "metadata": {
  "kernelspec": {
   "display_name": "AoA",
   "language": "python",
   "name": "python3"
  },
  "language_info": {
   "codemirror_mode": {
    "name": "ipython",
    "version": 3
   },
   "file_extension": ".py",
   "mimetype": "text/x-python",
   "name": "python",
   "nbconvert_exporter": "python",
   "pygments_lexer": "ipython3",
   "version": "3.8.8"
  },
  "orig_nbformat": 4,
  "vscode": {
   "interpreter": {
    "hash": "43decea3c4c6bb5e4da1d400e7134a8c856846bc48490111441905f5d6243673"
   }
  }
 },
 "nbformat": 4,
 "nbformat_minor": 2
}
