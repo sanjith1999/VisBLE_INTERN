{
 "cells": [
  {
   "attachments": {},
   "cell_type": "markdown",
   "metadata": {},
   "source": [
    "### DATA COLLECTION"
   ]
  },
  {
   "cell_type": "code",
   "execution_count": null,
   "metadata": {},
   "outputs": [],
   "source": [
    "# Necessary Imports\n",
    "from flask import Flask, jsonify\n",
    "from werkzeug.routing import IntegerConverter\n",
    "from _csv import Dialect as _Dialect\n",
    "import copy\n",
    "import csv\n",
    "import os\n",
    "from lib.rtls_slave import pixel_calculate, aoa_main, sort_data\n",
    "import json\n",
    "\n",
    "\n",
    "ENVIRONMENT = 'random'\n",
    "\n",
    "# Handle Negative Values\n",
    "class SignedIntConverter(IntegerConverter):\n",
    "    regex = r'-?\\d+'\n",
    "app = Flask(__name__)\n",
    "app.url_map.converters['signed_int'] = SignedIntConverter\n",
    "#Store input values: AoA and Horizontal Angle\n",
    "\n",
    "aoabefore = {}\n",
    "aoa= {}\n",
    "lev = []\n",
    "\n",
    "@app.route('/')\n",
    "def home():\n",
    "    return \"This is the HomePage\"\n",
    "\n",
    "#Routing Settings\n",
    "@app.route('/send/<signed_int:horiz>', methods=['GET'])\n",
    "def get_angle(horiz):\n",
    "    global aoa\n",
    "    global aoabefore\n",
    "    \n",
    "    print(\"Plane Angle: \" + str(horiz))\n",
    "    aoa_result = aoa_main()\n",
    "    input_letter = input(\"If you want to add this data to list type 'y', otherwise press Enter\")\n",
    "    if input_letter!='y':\n",
    "        return jsonify({'state':'Try Again'})\n",
    "    lev.append(horiz)\n",
    "    aoabefore = copy.deepcopy(aoa)\n",
    "    aoa = aoa_result\n",
    "\n",
    "    with open(f\"./data/aoa_data/{ENVIRONMENT}_{horiz}.json\",'w') as f:\n",
    "        json.dump(aoa_result, f)\n",
    "        \n",
    "    return jsonify({'state': 'success'})\n",
    "\n",
    "@app.route('/calculate/', methods=['GET'])\n",
    "def calculate():\n",
    "    # ANGLE SORTING TECHNIQUES\n",
    "    aoabefore_ = sort_data(aoabefore,aoa_bias = -35)\n",
    "    aoa_ = sort_data(aoa,aoa_bias = -35)\n",
    "\n",
    "    print(\"Before Turning：\"+str(aoabefore)+'\\n'+\"After Turning： \" + str(aoa) +'\\n'+\"Rotation Angle： \"+ str(lev))\n",
    "    set_aoa = set(aoa_)\n",
    "    set_aoabefore = set(aoabefore_)\n",
    "\n",
    "    for slave in set_aoa.intersection(set_aoabefore):\n",
    "        f = open(f\"./results/pixels/{slave.replace(':','_')}.csv\",'w',newline=\"\")\n",
    "        f.truncate()\n",
    "        writer = csv.writer(f)\n",
    "        \n",
    "        data_before = aoabefore_[slave]\n",
    "        data_after = aoa_[slave]\n",
    "\n",
    "        for i in range(len(data_before[0])):\n",
    "            for j in range(len(data_after[0])):\n",
    "                (temp1, temp2) = pixel_calculate(lev[-2] - lev[-1], data_before[0][i], data_after[0][j])\n",
    "                count = data_before[1][i]*data_after[1][j]\n",
    "                if temp1 != -1:\n",
    "                    tux = (temp1, temp2,count)\n",
    "                    writer.writerow(tux)\n",
    "\n",
    "        f.close()\n",
    "                \n",
    "        \n",
    "        f.close()\n",
    "\n",
    "    \n",
    "    return jsonify({'state': 'success'})"
   ]
  },
  {
   "cell_type": "code",
   "execution_count": null,
   "metadata": {},
   "outputs": [],
   "source": [
    "ENVIRONMENT = 'three_down_indoor_ii'\n",
    "app.run(host='0.0.0.0',port = 5000, debug=False)\n",
    "# My Charger: 80:6F:B0:EE:AD:32 : Water Bottle.\n",
    "# Ishrath Charger:  80:6F:B0:EE:AA:13 : Tea Bottle."
   ]
  },
  {
   "attachments": {},
   "cell_type": "markdown",
   "metadata": {},
   "source": [
    "### POST POINT CALCULATION"
   ]
  },
  {
   "cell_type": "code",
   "execution_count": null,
   "metadata": {},
   "outputs": [],
   "source": [
    "from lib.rtls_slave import post_calculation\n",
    "\n",
    "# POST-ANALYSIS\n",
    "post_calculation('three_top_indoor_i',67,74,aoa_bias = -45)"
   ]
  },
  {
   "attachments": {},
   "cell_type": "markdown",
   "metadata": {},
   "source": [
    "### VISUALIZING THE ANGLE"
   ]
  },
  {
   "cell_type": "code",
   "execution_count": null,
   "metadata": {},
   "outputs": [],
   "source": [
    "from lib.rtls_slave import visualize_aoa_spread\n",
    "\n",
    "CASE = 'three_down_indoor_i'\n",
    "level = 74\n",
    "visualize_aoa_spread(CASE, level)"
   ]
  },
  {
   "cell_type": "code",
   "execution_count": null,
   "metadata": {},
   "outputs": [],
   "source": [
    "from lib.rtls_slave import visualize_aoa_turn_spread\n",
    "\n",
    "CASE = 'two_top_indoor'\n",
    "level1 = 68\n",
    "level2 = 76\n",
    "vis_bias = 0\n",
    "\n",
    "visualize_aoa_turn_spread(CASE, level1, level2, vis_bias)"
   ]
  },
  {
   "attachments": {},
   "cell_type": "markdown",
   "metadata": {},
   "source": [
    "### RAW DATA VISUALIZATION"
   ]
  },
  {
   "cell_type": "code",
   "execution_count": null,
   "metadata": {},
   "outputs": [],
   "source": [
    "import matplotlib.pyplot as plt\n",
    "import json\n",
    "\n",
    "def visualize_aoa_spread(CASE, level, num_bins = 100):\n",
    "\n",
    "    with open(f'./data/aoa_data/{CASE}_{level}.json', 'r') as f:\n",
    "        aoa_data = json.load(f)\n",
    "\n",
    "    # Create a figure and axis object\n",
    "    fig, ax = plt.subplots()\n",
    "\n",
    "    # Set the x and y labels and title\n",
    "    ax.set_xlabel(\"Angle of Arrival\")\n",
    "    ax.set_ylabel(\"# of Occurance\")\n",
    "    ax.set_title(\"Histogram of Angle of Arrival\")\n",
    "\n",
    "    # Set the number of bins in the histogram\n",
    "\n",
    "    # Loop over each slave and plot its angle of arrival data as a histogram\n",
    "    for slave, data in aoa_data.items():\n",
    "        ax.hist(data, bins=num_bins, alpha=0.5, label=slave)\n",
    "\n",
    "    # Add a legend to the plot\n",
    "    ax.legend()\n",
    "\n",
    "    # Show the plot\n",
    "    plt.show()\n",
    "\n",
    "    if len(aoa_data.keys())>1:\n",
    "        # Set up the figure with subplots\n",
    "        fig, axs = plt.subplots(nrows=1, ncols=len(aoa_data.keys()), figsize=(10, 5))\n",
    "\n",
    "        # Iterate over each slave and plot a histogram of its angle of arrival data\n",
    "        for i, slave in enumerate(aoa_data.keys()):\n",
    "            axs[i].hist(aoa_data[slave], bins=num_bins,color='lightblue')  # adjust bins as needed\n",
    "            axs[i].set_title(slave)\n",
    "            axs[i].set_xlabel(\"Angle of Arrival\")\n",
    "            axs[i].set_ylabel(\"# of Occurance\")\n",
    "\n",
    "        # Adjust the spacing between subplots and display the figure\n",
    "        plt.tight_layout()\n",
    "\n",
    "        plt.show()\n",
    "        \n",
    "        return \"SUCESS\"\n",
    "    \n",
    "\n",
    "visualize_aoa_spread('one_top_indoor',70,100)"
   ]
  }
 ],
 "metadata": {
  "kernelspec": {
   "display_name": "AoA",
   "language": "python",
   "name": "python3"
  },
  "language_info": {
   "codemirror_mode": {
    "name": "ipython",
    "version": 3
   },
   "file_extension": ".py",
   "mimetype": "text/x-python",
   "name": "python",
   "nbconvert_exporter": "python",
   "pygments_lexer": "ipython3",
   "version": "3.8.8"
  },
  "orig_nbformat": 4,
  "vscode": {
   "interpreter": {
    "hash": "43decea3c4c6bb5e4da1d400e7134a8c856846bc48490111441905f5d6243673"
   }
  }
 },
 "nbformat": 4,
 "nbformat_minor": 2
}
