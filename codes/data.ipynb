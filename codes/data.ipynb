{
 "cells": [
  {
   "attachments": {},
   "cell_type": "markdown",
   "metadata": {},
   "source": [
    "### DATA COLLECTION"
   ]
  },
  {
   "cell_type": "code",
   "execution_count": null,
   "metadata": {},
   "outputs": [],
   "source": [
    "# Necessary Imports\n",
    "from flask import Flask, jsonify\n",
    "from werkzeug.routing import IntegerConverter\n",
    "from _csv import Dialect as _Dialect\n",
    "import copy\n",
    "import csv\n",
    "import os\n",
    "from lib.rtls_slave import pixel_calculate, aoa_main, sort_data\n",
    "import json\n",
    "\n",
    "\n",
    "ENVIRONMENT = 'random'\n",
    "\n",
    "# Handle Negative Values\n",
    "class SignedIntConverter(IntegerConverter):\n",
    "    regex = r'-?\\d+'\n",
    "app = Flask(__name__)\n",
    "app.url_map.converters['signed_int'] = SignedIntConverter\n",
    "#Store input values: AoA and Horizontal Angle\n",
    "\n",
    "aoabefore = {}\n",
    "aoa= {}\n",
    "lev = []\n",
    "\n",
    "@app.route('/')\n",
    "def home():\n",
    "    return \"This is the HomePage\"\n",
    "\n",
    "#Routing Settings\n",
    "@app.route('/send/<signed_int:horiz>', methods=['GET'])\n",
    "def get_angle(horiz):\n",
    "    global aoa\n",
    "    global aoabefore\n",
    "    \n",
    "    print(\"Plane Angle: \" + str(horiz))\n",
    "    aoa_result = aoa_main()\n",
    "    print(aoa_result)\n",
    "    input_letter = input(\"If you want to add this data to list type 'y', otherwise press Enter\")\n",
    "    if input_letter!='y':\n",
    "        return jsonify({'state':'Try Again'})\n",
    "    lev.append(horiz)\n",
    "    aoabefore = copy.deepcopy(aoa)\n",
    "    aoa = aoa_result\n",
    "\n",
    "    with open(f\"./data/aoa_data/{ENVIRONMENT}_{horiz}.json\",'w') as f:\n",
    "        json.dump(aoa_result, f)\n",
    "        \n",
    "    return jsonify({'state': 'success'})\n",
    "\n",
    "@app.route('/calculate/', methods=['GET'])\n",
    "def calculate():\n",
    "\n",
    "    u = []\n",
    "    v = []\n",
    "\n",
    "    # ANGLE SORTING TECHNIQUES\n",
    "    aoabefore_ = sort_data(aoabefore,aoa_bias = -35)\n",
    "    aoa_ = sort_data(aoa,aoa_bias = -35)\n",
    "\n",
    "    print(\"Before Turning：\"+str(aoabefore)+'\\n'+\"After Turning： \" + str(aoa) +'\\n'+\"Rotation Angle： \"+ str(lev))\n",
    "    set_aoa = set(aoa_)\n",
    "    set_aoabefore = set(aoabefore_)\n",
    "\n",
    "    for slave in set_aoa.intersection(set_aoabefore):\n",
    "        f = open(f\"./results/pixels/{slave.replace(':','_')}.csv\",'w',newline=\"\")\n",
    "        f.truncate()\n",
    "        writer = csv.writer(f)\n",
    "        \n",
    "        for i in range(len(aoabefore_[slave])):\n",
    "            for j in range(len(aoa_[slave])):\n",
    "                (temp1, temp2) = pixel_calculate(lev[-2] - lev[-1], aoabefore_[slave][i], aoa_[slave][j])\n",
    "\n",
    "                if (temp1 != 1):\n",
    "                    u.append(temp1)\n",
    "                    v.append(temp2)\n",
    "                    tupx = (temp1,temp2)\n",
    "                    writer.writerow(tupx)\n",
    "                \n",
    "        \n",
    "        f.close()\n",
    "\n",
    "    \n",
    "    return jsonify({'state': 'success'})"
   ]
  },
  {
   "cell_type": "code",
   "execution_count": null,
   "metadata": {},
   "outputs": [],
   "source": [
    "ENVIRONMENT = 'two_top_outtest'\n",
    "app.run(host='0.0.0.0',port = 5000, debug=False)\n",
    "# My Charger: 80:6F:B0:EE:AD:32 : Water Bottle.\n",
    "# Ishrath Charger:  80:6F:B0:EE:AA:13 : Tea Bottle."
   ]
  },
  {
   "attachments": {},
   "cell_type": "markdown",
   "metadata": {},
   "source": [
    "### POST POINT CALCULATION"
   ]
  },
  {
   "cell_type": "code",
   "execution_count": null,
   "metadata": {},
   "outputs": [],
   "source": [
    "from lib.rtls_slave import post_calculation\n",
    "\n",
    "# POST-ANALYSIS\n",
    "post_calculation('two_down_indoor',71,75)"
   ]
  },
  {
   "attachments": {},
   "cell_type": "markdown",
   "metadata": {},
   "source": [
    "### VISUALIZING THE ANGLE"
   ]
  },
  {
   "cell_type": "code",
   "execution_count": null,
   "metadata": {},
   "outputs": [],
   "source": [
    "from lib.rtls_slave import visualize_aoa_spread\n",
    "\n",
    "CASE = 'two_down_indoor'\n",
    "level = 75\n",
    "n_bins = 40\n",
    "visualize_aoa_spread(CASE, level, n_bins)"
   ]
  },
  {
   "cell_type": "code",
   "execution_count": null,
   "metadata": {},
   "outputs": [],
   "source": [
    "from lib.rtls_slave import visualize_aoa_turn_spread\n",
    "\n",
    "CASE = 'two_top_indoor'\n",
    "level1 = 68\n",
    "level2 = 76\n",
    "vis_bias = 0\n",
    "nbins = 20\n",
    "\n",
    "visualize_aoa_turn_spread(CASE, level1, level2, vis_bias, nbins)"
   ]
  }
 ],
 "metadata": {
  "kernelspec": {
   "display_name": "AoA",
   "language": "python",
   "name": "python3"
  },
  "language_info": {
   "codemirror_mode": {
    "name": "ipython",
    "version": 3
   },
   "file_extension": ".py",
   "mimetype": "text/x-python",
   "name": "python",
   "nbconvert_exporter": "python",
   "pygments_lexer": "ipython3",
   "version": "3.8.8"
  },
  "orig_nbformat": 4,
  "vscode": {
   "interpreter": {
    "hash": "43decea3c4c6bb5e4da1d400e7134a8c856846bc48490111441905f5d6243673"
   }
  }
 },
 "nbformat": 4,
 "nbformat_minor": 2
}
